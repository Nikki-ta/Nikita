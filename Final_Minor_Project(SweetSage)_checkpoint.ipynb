{
 "cells": [
  {
   "cell_type": "markdown",
   "id": "cfb8f898",
   "metadata": {
    "id": "cfb8f898"
   },
   "source": [
    "# Sugarcane Yield Prediction using Machine Learning"
   ]
  },
  {
   "cell_type": "code",
   "execution_count": 2,
   "id": "e26fffc1",
   "metadata": {
    "id": "e26fffc1"
   },
   "outputs": [
    {
     "name": "stdout",
     "output_type": "stream",
     "text": [
      "WARNING:tensorflow:From F:\\Python\\Python310\\lib\\site-packages\\keras\\src\\losses.py:2976: The name tf.losses.sparse_softmax_cross_entropy is deprecated. Please use tf.compat.v1.losses.sparse_softmax_cross_entropy instead.\n",
      "\n"
     ]
    }
   ],
   "source": [
    "#importing dependancies\n",
    "import ee\n",
    "import pandas as pd\n",
    "import folium\n",
    "from folium import plugins\n",
    "from IPython.display import Image\n",
    "import matplotlib.pyplot as plt\n",
    "import matplotlib\n",
    "from datetime import datetime\n",
    "from pylab import rcParams\n",
    "import seaborn as sns\n",
    "import keras\n",
    "from keras import layers, models, Sequential\n",
    "from sklearn.metrics import mean_squared_error"
   ]
  },
  {
   "cell_type": "code",
   "execution_count": 3,
   "id": "YveJVtil4iNV",
   "metadata": {
    "colab": {
     "base_uri": "https://localhost:8080/"
    },
    "id": "YveJVtil4iNV",
    "outputId": "7a7ec957-e738-4c16-f1ee-d2699ea6b46e"
   },
   "outputs": [
    {
     "name": "stdout",
     "output_type": "stream",
     "text": [
      "Requirement already satisfied: earthengine-api in f:\\python\\python310\\lib\\site-packages (0.1.379)\n",
      "Requirement already satisfied: pandas in f:\\python\\python310\\lib\\site-packages (2.0.3)\n",
      "Requirement already satisfied: folium in f:\\python\\python310\\lib\\site-packages (0.15.0)\n",
      "Requirement already satisfied: matplotlib in f:\\python\\python310\\lib\\site-packages (3.7.3)\n",
      "Requirement already satisfied: seaborn in f:\\python\\python310\\lib\\site-packages (0.12.2)\n",
      "Requirement already satisfied: google-cloud-storage in f:\\python\\python310\\lib\\site-packages (from earthengine-api) (2.13.0)\n",
      "Requirement already satisfied: google-api-python-client>=1.12.1 in f:\\python\\python310\\lib\\site-packages (from earthengine-api) (2.92.0)\n",
      "Requirement already satisfied: google-auth>=1.4.1 in f:\\python\\python310\\lib\\site-packages (from earthengine-api) (2.23.4)\n",
      "Requirement already satisfied: google-auth-httplib2>=0.0.3 in f:\\python\\python310\\lib\\site-packages (from earthengine-api) (0.1.0)\n",
      "Requirement already satisfied: httplib2<1dev,>=0.9.2 in f:\\python\\python310\\lib\\site-packages (from earthengine-api) (0.22.0)\n",
      "Requirement already satisfied: requests in f:\\python\\python310\\lib\\site-packages (from earthengine-api) (2.31.0)\n",
      "Requirement already satisfied: python-dateutil>=2.8.2 in f:\\python\\python310\\lib\\site-packages (from pandas) (2.8.2)\n",
      "Requirement already satisfied: pytz>=2020.1 in f:\\python\\python310\\lib\\site-packages (from pandas) (2023.3.post1)\n",
      "Requirement already satisfied: tzdata>=2022.1 in f:\\python\\python310\\lib\\site-packages (from pandas) (2023.3)\n",
      "Requirement already satisfied: numpy>=1.21.0 in f:\\python\\python310\\lib\\site-packages (from pandas) (1.25.1)\n",
      "Requirement already satisfied: branca>=0.6.0 in f:\\python\\python310\\lib\\site-packages (from folium) (0.7.0)\n",
      "Requirement already satisfied: jinja2>=2.9 in f:\\python\\python310\\lib\\site-packages (from folium) (3.1.2)\n",
      "Requirement already satisfied: contourpy>=1.0.1 in f:\\python\\python310\\lib\\site-packages (from matplotlib) (1.2.0)\n",
      "Requirement already satisfied: cycler>=0.10 in f:\\python\\python310\\lib\\site-packages (from matplotlib) (0.12.1)\n",
      "Requirement already satisfied: fonttools>=4.22.0 in f:\\python\\python310\\lib\\site-packages (from matplotlib) (4.44.0)\n",
      "Requirement already satisfied: kiwisolver>=1.0.1 in f:\\python\\python310\\lib\\site-packages (from matplotlib) (1.4.5)\n",
      "Requirement already satisfied: packaging>=20.0 in f:\\python\\python310\\lib\\site-packages (from matplotlib) (23.2)\n",
      "Requirement already satisfied: pillow>=6.2.0 in f:\\python\\python310\\lib\\site-packages (from matplotlib) (10.0.0)\n",
      "Requirement already satisfied: pyparsing>=2.3.1 in f:\\python\\python310\\lib\\site-packages (from matplotlib) (3.1.0)\n",
      "Requirement already satisfied: google-api-core!=2.0.*,!=2.1.*,!=2.2.*,!=2.3.0,<3.0.0.dev0,>=1.31.5 in f:\\python\\python310\\lib\\site-packages (from google-api-python-client>=1.12.1->earthengine-api) (2.11.1)\n",
      "Requirement already satisfied: uritemplate<5,>=3.0.1 in f:\\python\\python310\\lib\\site-packages (from google-api-python-client>=1.12.1->earthengine-api) (4.1.1)\n",
      "Requirement already satisfied: cachetools<6.0,>=2.0.0 in f:\\python\\python310\\lib\\site-packages (from google-auth>=1.4.1->earthengine-api) (5.3.1)\n",
      "Requirement already satisfied: pyasn1-modules>=0.2.1 in f:\\python\\python310\\lib\\site-packages (from google-auth>=1.4.1->earthengine-api) (0.3.0)\n",
      "Requirement already satisfied: rsa<5,>=3.1.4 in f:\\python\\python310\\lib\\site-packages (from google-auth>=1.4.1->earthengine-api) (4.9)\n",
      "Requirement already satisfied: six in f:\\python\\python310\\lib\\site-packages (from google-auth-httplib2>=0.0.3->earthengine-api) (1.16.0)\n",
      "Requirement already satisfied: MarkupSafe>=2.0 in f:\\python\\python310\\lib\\site-packages (from jinja2>=2.9->folium) (2.1.3)\n",
      "Requirement already satisfied: google-cloud-core<3.0dev,>=2.3.0 in f:\\python\\python310\\lib\\site-packages (from google-cloud-storage->earthengine-api) (2.3.3)\n",
      "Requirement already satisfied: google-resumable-media>=2.6.0 in f:\\python\\python310\\lib\\site-packages (from google-cloud-storage->earthengine-api) (2.6.0)\n",
      "Requirement already satisfied: google-crc32c<2.0dev,>=1.0 in f:\\python\\python310\\lib\\site-packages (from google-cloud-storage->earthengine-api) (1.5.0)\n",
      "Requirement already satisfied: charset-normalizer<4,>=2 in f:\\python\\python310\\lib\\site-packages (from requests->earthengine-api) (3.2.0)\n",
      "Requirement already satisfied: idna<4,>=2.5 in f:\\python\\python310\\lib\\site-packages (from requests->earthengine-api) (2.10)\n",
      "Requirement already satisfied: urllib3<3,>=1.21.1 in f:\\python\\python310\\lib\\site-packages (from requests->earthengine-api) (1.26.16)\n",
      "Requirement already satisfied: certifi>=2017.4.17 in f:\\python\\python310\\lib\\site-packages (from requests->earthengine-api) (2023.5.7)\n",
      "Requirement already satisfied: googleapis-common-protos<2.0.dev0,>=1.56.2 in f:\\python\\python310\\lib\\site-packages (from google-api-core!=2.0.*,!=2.1.*,!=2.2.*,!=2.3.0,<3.0.0.dev0,>=1.31.5->google-api-python-client>=1.12.1->earthengine-api) (1.59.1)\n",
      "Requirement already satisfied: protobuf!=3.20.0,!=3.20.1,!=4.21.0,!=4.21.1,!=4.21.2,!=4.21.3,!=4.21.4,!=4.21.5,<5.0.0.dev0,>=3.19.5 in f:\\python\\python310\\lib\\site-packages (from google-api-core!=2.0.*,!=2.1.*,!=2.2.*,!=2.3.0,<3.0.0.dev0,>=1.31.5->google-api-python-client>=1.12.1->earthengine-api) (4.23.4)\n",
      "Requirement already satisfied: pyasn1<0.6.0,>=0.4.6 in f:\\python\\python310\\lib\\site-packages (from pyasn1-modules>=0.2.1->google-auth>=1.4.1->earthengine-api) (0.5.0)\n",
      "Note: you may need to restart the kernel to use updated packages.\n"
     ]
    },
    {
     "name": "stderr",
     "output_type": "stream",
     "text": [
      "WARNING: Ignoring invalid distribution -ip (f:\\python\\python310\\lib\\site-packages)\n",
      "WARNING: Ignoring invalid distribution -oogletrans (f:\\python\\python310\\lib\\site-packages)\n",
      "WARNING: Ignoring invalid distribution -ip (f:\\python\\python310\\lib\\site-packages)\n",
      "WARNING: Ignoring invalid distribution -oogletrans (f:\\python\\python310\\lib\\site-packages)\n"
     ]
    }
   ],
   "source": [
    "pip install earthengine-api pandas folium matplotlib seaborn"
   ]
  },
  {
   "cell_type": "code",
   "execution_count": 4,
   "id": "x6OJ6p9TI3fZ",
   "metadata": {
    "colab": {
     "base_uri": "https://localhost:8080/"
    },
    "id": "x6OJ6p9TI3fZ",
    "outputId": "92c87044-a84a-43a9-a681-9bd080161349"
   },
   "outputs": [
    {
     "name": "stdout",
     "output_type": "stream",
     "text": [
      "Requirement already satisfied: keras in f:\\python\\python310\\lib\\site-packages (2.15.0)\n",
      "Note: you may need to restart the kernel to use updated packages.\n"
     ]
    },
    {
     "name": "stderr",
     "output_type": "stream",
     "text": [
      "WARNING: Ignoring invalid distribution -ip (f:\\python\\python310\\lib\\site-packages)\n",
      "WARNING: Ignoring invalid distribution -oogletrans (f:\\python\\python310\\lib\\site-packages)\n",
      "WARNING: Ignoring invalid distribution -ip (f:\\python\\python310\\lib\\site-packages)\n",
      "WARNING: Ignoring invalid distribution -oogletrans (f:\\python\\python310\\lib\\site-packages)\n"
     ]
    }
   ],
   "source": [
    "pip install keras"
   ]
  },
  {
   "cell_type": "code",
   "execution_count": 5,
   "id": "495ca1ff",
   "metadata": {
    "id": "495ca1ff",
    "scrolled": true
   },
   "outputs": [],
   "source": [
    "from shapely.geometry import Polygon\n",
    "from shapely.ops import transform\n",
    "import pyproj\n",
    "from pyproj import Proj, transform"
   ]
  },
  {
   "cell_type": "code",
   "execution_count": 6,
   "id": "65bd5868",
   "metadata": {
    "id": "65bd5868"
   },
   "outputs": [],
   "source": [
    "from sklearn.ensemble import RandomForestRegressor\n",
    "import numpy as np"
   ]
  },
  {
   "cell_type": "code",
   "execution_count": null,
   "id": "d6341944",
   "metadata": {
    "colab": {
     "base_uri": "https://localhost:8080/"
    },
    "id": "d6341944",
    "outputId": "df1ea87e-9403-48d1-dca8-60d11d7d57fe"
   },
   "outputs": [
    {
     "data": {
      "text/html": [
       "<p>To authorize access needed by Earth Engine, open the following\n",
       "        URL in a web browser and follow the instructions:</p>\n",
       "        <p><a href=https://code.earthengine.google.com/client-auth?scopes=https%3A//www.googleapis.com/auth/earthengine%20https%3A//www.googleapis.com/auth/devstorage.full_control&request_id=z2VMiw0XN5Lqq-ocROZHJuMqv2Q_mo_OTmB_DExtzFo&tc=btDb9ZgN4-Uqc7ENbFxCRWWhQcg-L6G4_mR--ILp0Wk&cc=-Z6xyZWYXS7YFB6sDvaGxu6-yOaQLipQ-IrIRCo2Go4>https://code.earthengine.google.com/client-auth?scopes=https%3A//www.googleapis.com/auth/earthengine%20https%3A//www.googleapis.com/auth/devstorage.full_control&request_id=z2VMiw0XN5Lqq-ocROZHJuMqv2Q_mo_OTmB_DExtzFo&tc=btDb9ZgN4-Uqc7ENbFxCRWWhQcg-L6G4_mR--ILp0Wk&cc=-Z6xyZWYXS7YFB6sDvaGxu6-yOaQLipQ-IrIRCo2Go4</a></p>\n",
       "        <p>The authorization workflow will generate a code, which you should paste in the box below.</p>\n",
       "        "
      ],
      "text/plain": [
       "<IPython.core.display.HTML object>"
      ]
     },
     "metadata": {},
     "output_type": "display_data"
    }
   ],
   "source": [
    "ee.Authenticate()"
   ]
  },
  {
   "cell_type": "code",
   "execution_count": null,
   "id": "18820fdb",
   "metadata": {
    "id": "18820fdb"
   },
   "outputs": [],
   "source": [
    "ee.Initialize()"
   ]
  },
  {
   "cell_type": "markdown",
   "id": "63a933ef",
   "metadata": {
    "id": "63a933ef"
   },
   "source": [
    "## Area of interest = Sugarcane Belt of Uttar Pradesh"
   ]
  },
  {
   "cell_type": "markdown",
   "id": "d5d801a8",
   "metadata": {
    "id": "d5d801a8"
   },
   "source": [
    "<img src = \"Desktop/Dissertation_files/SugarcaneBelt.jpeg\">"
   ]
  },
  {
   "cell_type": "code",
   "execution_count": null,
   "id": "70966fb3",
   "metadata": {
    "id": "70966fb3"
   },
   "outputs": [],
   "source": [
    "AOI= ee.Geometry.Polygon([\n",
    "  [\n",
    "    [80.1728, 28.1124],\n",
    "    [80.3233, 28.0459],\n",
    "    [80.3648, 27.9413],\n",
    "    [80.3476, 27.8406],\n",
    "    [80.1756, 27.8007],\n",
    "    [80.0897, 27.8132],\n",
    "    [80.0149, 27.8557],\n",
    "    [79.9669, 27.8978],\n",
    "    [79.9190, 27.9468],\n",
    "    [79.8889, 27.9993],\n",
    "    [79.8704, 28.0641],\n",
    "    [79.8015, 28.1435],\n",
    "    [79.7522, 28.2381],\n",
    "    [79.7847, 28.2827],\n",
    "    [79.7744, 28.3554],\n",
    "    [79.8495, 28.3964],\n",
    "    [79.8778, 28.4119]\n",
    "  ]\n",
    "])\n"
   ]
  },
  {
   "cell_type": "markdown",
   "id": "f9e08250",
   "metadata": {
    "id": "f9e08250"
   },
   "source": [
    "## Visualising Sentinel-2 Image"
   ]
  },
  {
   "cell_type": "code",
   "execution_count": null,
   "id": "c0aca656",
   "metadata": {
    "id": "c0aca656"
   },
   "outputs": [],
   "source": [
    "startdate = ee.Date.fromYMD(2021, 7, 1);\n",
    "enddate = ee.Date.fromYMD(2021, 10, 30);\n",
    "\n",
    "collection = ee.ImageCollection(\"COPERNICUS/S2\").filterDate(startdate, enddate).filterBounds(AOI).filterMetadata('CLOUDY_PIXEL_PERCENTAGE', 'less_than', 0.1);\n"
   ]
  },
  {
   "cell_type": "code",
   "execution_count": null,
   "id": "d3664e5e",
   "metadata": {
    "id": "d3664e5e"
   },
   "outputs": [],
   "source": [
    "S2 = collection.median().clip(AOI).divide(10000)\n",
    "vis_params = {'min':0, 'max':0.4, 'bands':['B4', 'B3', 'B2']}"
   ]
  },
  {
   "cell_type": "code",
   "execution_count": null,
   "id": "54594500",
   "metadata": {
    "id": "54594500"
   },
   "outputs": [],
   "source": [
    "NDVI = S2.normalizedDifference(['B8', 'B4']).rename('NDVI')\n",
    "ndvi_params = {'min': 0, 'max': 0.8, 'palette': ['red', 'green','yellow']}"
   ]
  },
  {
   "cell_type": "code",
   "execution_count": 1,
   "id": "15196b6c",
   "metadata": {
    "id": "15196b6c"
   },
   "outputs": [
    {
     "ename": "NameError",
     "evalue": "name 'folium' is not defined",
     "output_type": "error",
     "traceback": [
      "\u001b[1;31m---------------------------------------------------------------------------\u001b[0m",
      "\u001b[1;31mNameError\u001b[0m                                 Traceback (most recent call last)",
      "Cell \u001b[1;32mIn[1], line 2\u001b[0m\n\u001b[0;32m      1\u001b[0m basemaps \u001b[38;5;241m=\u001b[39m {\n\u001b[1;32m----> 2\u001b[0m     \u001b[38;5;124m'\u001b[39m\u001b[38;5;124mGoogle Satellite\u001b[39m\u001b[38;5;124m'\u001b[39m: \u001b[43mfolium\u001b[49m\u001b[38;5;241m.\u001b[39mTileLayer(\n\u001b[0;32m      3\u001b[0m         tiles \u001b[38;5;241m=\u001b[39m \u001b[38;5;124m'\u001b[39m\u001b[38;5;124mhttps://mt1.google.com/vt/lyrs=s&x=\u001b[39m\u001b[38;5;132;01m{x}\u001b[39;00m\u001b[38;5;124m&y=\u001b[39m\u001b[38;5;132;01m{y}\u001b[39;00m\u001b[38;5;124m&z=\u001b[39m\u001b[38;5;132;01m{z}\u001b[39;00m\u001b[38;5;124m'\u001b[39m,\n\u001b[0;32m      4\u001b[0m         attr \u001b[38;5;241m=\u001b[39m \u001b[38;5;124m'\u001b[39m\u001b[38;5;124mGoogle\u001b[39m\u001b[38;5;124m'\u001b[39m,\n\u001b[0;32m      5\u001b[0m         name \u001b[38;5;241m=\u001b[39m \u001b[38;5;124m'\u001b[39m\u001b[38;5;124mGoogle Satellite\u001b[39m\u001b[38;5;124m'\u001b[39m,\n\u001b[0;32m      6\u001b[0m         overlay \u001b[38;5;241m=\u001b[39m \u001b[38;5;28;01mTrue\u001b[39;00m,\n\u001b[0;32m      7\u001b[0m         control \u001b[38;5;241m=\u001b[39m \u001b[38;5;28;01mTrue\u001b[39;00m\n\u001b[0;32m      8\u001b[0m     ),\n\u001b[0;32m      9\u001b[0m     \u001b[38;5;124m'\u001b[39m\u001b[38;5;124mGoogle Terrain\u001b[39m\u001b[38;5;124m'\u001b[39m: folium\u001b[38;5;241m.\u001b[39mTileLayer(\n\u001b[0;32m     10\u001b[0m         tiles \u001b[38;5;241m=\u001b[39m \u001b[38;5;124m'\u001b[39m\u001b[38;5;124mhttps://mt1.google.com/vt/lyrs=p&x=\u001b[39m\u001b[38;5;132;01m{x}\u001b[39;00m\u001b[38;5;124m&y=\u001b[39m\u001b[38;5;132;01m{y}\u001b[39;00m\u001b[38;5;124m&z=\u001b[39m\u001b[38;5;132;01m{z}\u001b[39;00m\u001b[38;5;124m'\u001b[39m,\n\u001b[0;32m     11\u001b[0m         attr \u001b[38;5;241m=\u001b[39m \u001b[38;5;124m'\u001b[39m\u001b[38;5;124mGoogle\u001b[39m\u001b[38;5;124m'\u001b[39m,\n\u001b[0;32m     12\u001b[0m         name \u001b[38;5;241m=\u001b[39m \u001b[38;5;124m'\u001b[39m\u001b[38;5;124mGoogle Terrain\u001b[39m\u001b[38;5;124m'\u001b[39m,\n\u001b[0;32m     13\u001b[0m         overlay \u001b[38;5;241m=\u001b[39m \u001b[38;5;28;01mTrue\u001b[39;00m,\n\u001b[0;32m     14\u001b[0m         control \u001b[38;5;241m=\u001b[39m \u001b[38;5;28;01mTrue\u001b[39;00m\n\u001b[0;32m     15\u001b[0m     )}\n",
      "\u001b[1;31mNameError\u001b[0m: name 'folium' is not defined"
     ]
    }
   ],
   "source": [
    "basemaps = {\n",
    "    'Google Satellite': folium.TileLayer(\n",
    "        tiles = 'https://mt1.google.com/vt/lyrs=s&x={x}&y={y}&z={z}',\n",
    "        attr = 'Google',\n",
    "        name = 'Google Satellite',\n",
    "        overlay = True,\n",
    "        control = True\n",
    "    ),\n",
    "    'Google Terrain': folium.TileLayer(\n",
    "        tiles = 'https://mt1.google.com/vt/lyrs=p&x={x}&y={y}&z={z}',\n",
    "        attr = 'Google',\n",
    "        name = 'Google Terrain',\n",
    "        overlay = True,\n",
    "        control = True\n",
    "    )}"
   ]
  },
  {
   "cell_type": "code",
   "execution_count": null,
   "id": "a6b806fe",
   "metadata": {
    "id": "a6b806fe"
   },
   "outputs": [],
   "source": [
    "def add_ee_layer(self, ee_object, vis_params, name):\n",
    "\n",
    "    try:\n",
    "        if isinstance(ee_object, ee.image.Image):\n",
    "            map_id_dict = ee.Image(ee_object).getMapId(vis_params)\n",
    "            folium.raster_layers.TileLayer(\n",
    "            tiles = map_id_dict['tile_fetcher'].url_format,\n",
    "            attr = 'Google Earth Engine',\n",
    "            name = name,\n",
    "            overlay = True,\n",
    "            control = True\n",
    "            ).add_to(self)\n",
    "        elif isinstance(ee_object, ee.imagecollection.ImageCollection):\n",
    "            ee_object_new = ee_object.mosaic()\n",
    "            map_id_dict = ee.Image(ee_object_new).getMapId(vis_params)\n",
    "            folium.raster_layers.TileLayer(\n",
    "            tiles = map_id_dict['tile_fetcher'].url_format,\n",
    "            attr = 'Google Earth Engine',\n",
    "            name = name,\n",
    "            overlay = True,\n",
    "            control = True\n",
    "            ).add_to(self)\n",
    "        elif isinstance(ee_object, ee.geometry.Geometry):\n",
    "            folium.GeoJson(\n",
    "            data = ee_object.getInfo(),\n",
    "            name = name,\n",
    "            overlay = True,\n",
    "            control = True\n",
    "        ).add_to(self)\n",
    "        elif isinstance(ee_object, ee.featurecollection.FeatureCollection):\n",
    "            ee_object_new = ee.Image().paint(ee_object, 0, 2)\n",
    "            map_id_dict = ee.Image(ee_object_new).getMapId(vis_params)\n",
    "            folium.raster_layers.TileLayer(\n",
    "            tiles = map_id_dict['tile_fetcher'].url_format,\n",
    "            attr = 'Google Earth Engine',\n",
    "            name = name,\n",
    "            overlay = True,\n",
    "            control = True\n",
    "        ).add_to(self)\n",
    "\n",
    "    except:\n",
    "        print(\"Could not display {}\".format(name))\n",
    "\n",
    "folium.Map.add_ee_layer = add_ee_layer"
   ]
  },
  {
   "cell_type": "code",
   "execution_count": null,
   "id": "f9967315",
   "metadata": {
    "colab": {
     "base_uri": "https://localhost:8080/",
     "height": 865
    },
    "id": "f9967315",
    "outputId": "5a2905cb-0606-49c7-e373-8dfc2b853473"
   },
   "outputs": [
    {
     "data": {
      "text/html": [
       "<div style=\"width:100%;\"><div style=\"position:relative;width:100%;height:0;padding-bottom:60%;\"><span style=\"color:#565656\">Make this Notebook Trusted to load map: File -> Trust Notebook</span><iframe srcdoc=\"&lt;!DOCTYPE html&gt;\n",
       "&lt;html&gt;\n",
       "&lt;head&gt;\n",
       "    \n",
       "    &lt;meta http-equiv=&quot;content-type&quot; content=&quot;text/html; charset=UTF-8&quot; /&gt;\n",
       "    \n",
       "        &lt;script&gt;\n",
       "            L_NO_TOUCH = false;\n",
       "            L_DISABLE_3D = false;\n",
       "        &lt;/script&gt;\n",
       "    \n",
       "    &lt;style&gt;html, body {width: 100%;height: 100%;margin: 0;padding: 0;}&lt;/style&gt;\n",
       "    &lt;style&gt;#map {position:absolute;top:0;bottom:0;right:0;left:0;}&lt;/style&gt;\n",
       "    &lt;script src=&quot;https://cdn.jsdelivr.net/npm/leaflet@1.9.3/dist/leaflet.js&quot;&gt;&lt;/script&gt;\n",
       "    &lt;script src=&quot;https://code.jquery.com/jquery-1.12.4.min.js&quot;&gt;&lt;/script&gt;\n",
       "    &lt;script src=&quot;https://cdn.jsdelivr.net/npm/bootstrap@5.2.2/dist/js/bootstrap.bundle.min.js&quot;&gt;&lt;/script&gt;\n",
       "    &lt;script src=&quot;https://cdnjs.cloudflare.com/ajax/libs/Leaflet.awesome-markers/2.0.2/leaflet.awesome-markers.js&quot;&gt;&lt;/script&gt;\n",
       "    &lt;link rel=&quot;stylesheet&quot; href=&quot;https://cdn.jsdelivr.net/npm/leaflet@1.9.3/dist/leaflet.css&quot;/&gt;\n",
       "    &lt;link rel=&quot;stylesheet&quot; href=&quot;https://cdn.jsdelivr.net/npm/bootstrap@5.2.2/dist/css/bootstrap.min.css&quot;/&gt;\n",
       "    &lt;link rel=&quot;stylesheet&quot; href=&quot;https://netdna.bootstrapcdn.com/bootstrap/3.0.0/css/bootstrap.min.css&quot;/&gt;\n",
       "    &lt;link rel=&quot;stylesheet&quot; href=&quot;https://cdn.jsdelivr.net/npm/@fortawesome/fontawesome-free@6.2.0/css/all.min.css&quot;/&gt;\n",
       "    &lt;link rel=&quot;stylesheet&quot; href=&quot;https://cdnjs.cloudflare.com/ajax/libs/Leaflet.awesome-markers/2.0.2/leaflet.awesome-markers.css&quot;/&gt;\n",
       "    &lt;link rel=&quot;stylesheet&quot; href=&quot;https://cdn.jsdelivr.net/gh/python-visualization/folium/folium/templates/leaflet.awesome.rotate.min.css&quot;/&gt;\n",
       "    \n",
       "            &lt;meta name=&quot;viewport&quot; content=&quot;width=device-width,\n",
       "                initial-scale=1.0, maximum-scale=1.0, user-scalable=no&quot; /&gt;\n",
       "            &lt;style&gt;\n",
       "                #map_75cf4f818d1d4a4dc8af1044c1172a78 {\n",
       "                    position: relative;\n",
       "                    width: 100.0%;\n",
       "                    height: 100.0%;\n",
       "                    left: 0.0%;\n",
       "                    top: 0.0%;\n",
       "                }\n",
       "                .leaflet-container { font-size: 1rem; }\n",
       "            &lt;/style&gt;\n",
       "        \n",
       "&lt;/head&gt;\n",
       "&lt;body&gt;\n",
       "    \n",
       "    \n",
       "            &lt;div class=&quot;folium-map&quot; id=&quot;map_75cf4f818d1d4a4dc8af1044c1172a78&quot; &gt;&lt;/div&gt;\n",
       "        \n",
       "&lt;/body&gt;\n",
       "&lt;script&gt;\n",
       "    \n",
       "    \n",
       "            var map_75cf4f818d1d4a4dc8af1044c1172a78 = L.map(\n",
       "                &quot;map_75cf4f818d1d4a4dc8af1044c1172a78&quot;,\n",
       "                {\n",
       "                    center: [28.2021, 80.0102],\n",
       "                    crs: L.CRS.EPSG3857,\n",
       "                    zoom: 12,\n",
       "                    zoomControl: true,\n",
       "                    preferCanvas: false,\n",
       "                }\n",
       "            );\n",
       "\n",
       "            \n",
       "\n",
       "        \n",
       "    \n",
       "            var tile_layer_5d5c4b4684f10c7aa84af4a9edfb3756 = L.tileLayer(\n",
       "                &quot;https://{s}.tile.openstreetmap.org/{z}/{x}/{y}.png&quot;,\n",
       "                {&quot;attribution&quot;: &quot;Data by \\u0026copy; \\u003ca target=\\&quot;_blank\\&quot; href=\\&quot;http://openstreetmap.org\\&quot;\\u003eOpenStreetMap\\u003c/a\\u003e, under \\u003ca target=\\&quot;_blank\\&quot; href=\\&quot;http://www.openstreetmap.org/copyright\\&quot;\\u003eODbL\\u003c/a\\u003e.&quot;, &quot;detectRetina&quot;: false, &quot;maxNativeZoom&quot;: 18, &quot;maxZoom&quot;: 18, &quot;minZoom&quot;: 0, &quot;noWrap&quot;: false, &quot;opacity&quot;: 1, &quot;subdomains&quot;: &quot;abc&quot;, &quot;tms&quot;: false}\n",
       "            ).addTo(map_75cf4f818d1d4a4dc8af1044c1172a78);\n",
       "        \n",
       "    \n",
       "            var tile_layer_0b7cf1377f12cd80c356b99af8bd2440 = L.tileLayer(\n",
       "                &quot;https://mt1.google.com/vt/lyrs=p\\u0026x={x}\\u0026y={y}\\u0026z={z}&quot;,\n",
       "                {&quot;attribution&quot;: &quot;Google&quot;, &quot;detectRetina&quot;: false, &quot;maxNativeZoom&quot;: 18, &quot;maxZoom&quot;: 18, &quot;minZoom&quot;: 0, &quot;noWrap&quot;: false, &quot;opacity&quot;: 1, &quot;subdomains&quot;: &quot;abc&quot;, &quot;tms&quot;: false}\n",
       "            ).addTo(map_75cf4f818d1d4a4dc8af1044c1172a78);\n",
       "        \n",
       "    \n",
       "            var tile_layer_5ffc4df93dce6219f0b4ae840cfa8869 = L.tileLayer(\n",
       "                &quot;https://earthengine.googleapis.com/v1/projects/earthengine-legacy/maps/5e667df3ec68235edb30f256955d1161-17cdd9f391c8729fdd9cc7871166a0af/tiles/{z}/{x}/{y}&quot;,\n",
       "                {&quot;attribution&quot;: &quot;Google Earth Engine&quot;, &quot;detectRetina&quot;: false, &quot;maxNativeZoom&quot;: 18, &quot;maxZoom&quot;: 18, &quot;minZoom&quot;: 0, &quot;noWrap&quot;: false, &quot;opacity&quot;: 1, &quot;subdomains&quot;: &quot;abc&quot;, &quot;tms&quot;: false}\n",
       "            ).addTo(map_75cf4f818d1d4a4dc8af1044c1172a78);\n",
       "        \n",
       "    \n",
       "            var tile_layer_670d4b1a95a42808d601a8c1b2205a29 = L.tileLayer(\n",
       "                &quot;https://earthengine.googleapis.com/v1/projects/earthengine-legacy/maps/fbc3079a323180ade4cb1a288dd66698-82c98ff5fe58b77819a74ed97f1afb45/tiles/{z}/{x}/{y}&quot;,\n",
       "                {&quot;attribution&quot;: &quot;Google Earth Engine&quot;, &quot;detectRetina&quot;: false, &quot;maxNativeZoom&quot;: 18, &quot;maxZoom&quot;: 18, &quot;minZoom&quot;: 0, &quot;noWrap&quot;: false, &quot;opacity&quot;: 1, &quot;subdomains&quot;: &quot;abc&quot;, &quot;tms&quot;: false}\n",
       "            ).addTo(map_75cf4f818d1d4a4dc8af1044c1172a78);\n",
       "        \n",
       "    \n",
       "            var layer_control_f74cb2b62deb5b0e5a9895449d8725f8 = {\n",
       "                base_layers : {\n",
       "                    &quot;openstreetmap&quot; : tile_layer_5d5c4b4684f10c7aa84af4a9edfb3756,\n",
       "                },\n",
       "                overlays :  {\n",
       "                    &quot;Google Terrain&quot; : tile_layer_0b7cf1377f12cd80c356b99af8bd2440,\n",
       "                    &quot;Sentinel_2&quot; : tile_layer_5ffc4df93dce6219f0b4ae840cfa8869,\n",
       "                    &quot;NDVI&quot; : tile_layer_670d4b1a95a42808d601a8c1b2205a29,\n",
       "                },\n",
       "            };\n",
       "            L.control.layers(\n",
       "                layer_control_f74cb2b62deb5b0e5a9895449d8725f8.base_layers,\n",
       "                layer_control_f74cb2b62deb5b0e5a9895449d8725f8.overlays,\n",
       "                {&quot;autoZIndex&quot;: true, &quot;collapsed&quot;: true, &quot;position&quot;: &quot;topright&quot;}\n",
       "            ).addTo(map_75cf4f818d1d4a4dc8af1044c1172a78);\n",
       "        \n",
       "&lt;/script&gt;\n",
       "&lt;/html&gt;\" style=\"position:absolute;width:100%;height:100%;left:0;top:0;border:none !important;\" allowfullscreen webkitallowfullscreen mozallowfullscreen></iframe></div></div>"
      ],
      "text/plain": [
       "<folium.folium.Map at 0x791779f93160>"
      ]
     },
     "metadata": {},
     "output_type": "display_data"
    }
   ],
   "source": [
    "map_1 = folium.Map(location=[28.2021, 80.0102], zoom_start=12)\n",
    "\n",
    "basemaps['Google Terrain'].add_to(map_1)\n",
    "\n",
    "map_1.add_ee_layer(S2, vis_params, 'Sentinel_2')\n",
    "map_1.add_ee_layer(NDVI, ndvi_params, 'NDVI')\n",
    "map_1.add_child(folium.LayerControl())\n",
    "\n",
    "display(map_1)"
   ]
  },
  {
   "cell_type": "markdown",
   "id": "9b9b5c95",
   "metadata": {
    "id": "9b9b5c95"
   },
   "source": [
    "## Creating a dataset by collecting NDVI Values"
   ]
  },
  {
   "cell_type": "code",
   "execution_count": null,
   "id": "74ba75f6",
   "metadata": {
    "id": "74ba75f6"
   },
   "outputs": [],
   "source": [
    "startDate = ee.Date.fromYMD(2015,1,1)\n",
    "endDate = ee.Date.fromYMD(2023,1,1)"
   ]
  },
  {
   "cell_type": "code",
   "execution_count": null,
   "id": "572b1dc2",
   "metadata": {
    "id": "572b1dc2"
   },
   "outputs": [],
   "source": [
    "s2_sugarcanebelt = ee.ImageCollection(\"COPERNICUS/S2\").filterDate(startDate, endDate).filterBounds(AOI).filterMetadata('CLOUDY_PIXEL_PERCENTAGE', 'less_than', 1)\n",
    "NDVI_sugarcanebelt = s2_sugarcanebelt.map(lambda image: image.normalizedDifference(['B8', 'B4']).rename('NDVI').copyProperties(image, ['system:time_start']))"
   ]
  },
  {
   "cell_type": "code",
   "execution_count": null,
   "id": "82e76d52",
   "metadata": {
    "id": "82e76d52"
   },
   "outputs": [],
   "source": [
    "ndvi_time_series = NDVI_sugarcanebelt.reduce(ee.Reducer.mean()).reduceRegion(reducer=ee.Reducer.toList(), geometry=AOI, scale=20).getInfo()"
   ]
  },
  {
   "cell_type": "code",
   "execution_count": null,
   "id": "0d6a0d0b",
   "metadata": {
    "id": "0d6a0d0b"
   },
   "outputs": [],
   "source": [
    "ndvi_list = ndvi_time_series['NDVI_mean']\n",
    "dates = NDVI_sugarcanebelt.aggregate_array('system:time_start').getInfo()\n",
    "dates = [datetime.fromtimestamp(date/1000) for date in dates]"
   ]
  },
  {
   "cell_type": "code",
   "execution_count": null,
   "id": "35c0de75",
   "metadata": {
    "colab": {
     "base_uri": "https://localhost:8080/",
     "height": 206
    },
    "id": "35c0de75",
    "outputId": "174872e6-96c6-4599-ce4e-ddbaca5b455f"
   },
   "outputs": [
    {
     "data": {
      "text/html": [
       "\n",
       "  <div id=\"df-26e859cc-98aa-4e55-a5a4-e93a9437337c\" class=\"colab-df-container\">\n",
       "    <div>\n",
       "<style scoped>\n",
       "    .dataframe tbody tr th:only-of-type {\n",
       "        vertical-align: middle;\n",
       "    }\n",
       "\n",
       "    .dataframe tbody tr th {\n",
       "        vertical-align: top;\n",
       "    }\n",
       "\n",
       "    .dataframe thead th {\n",
       "        text-align: right;\n",
       "    }\n",
       "</style>\n",
       "<table border=\"1\" class=\"dataframe\">\n",
       "  <thead>\n",
       "    <tr style=\"text-align: right;\">\n",
       "      <th></th>\n",
       "      <th>ndvi</th>\n",
       "    </tr>\n",
       "  </thead>\n",
       "  <tbody>\n",
       "    <tr>\n",
       "      <th>2015-10-02 05:18:41.000</th>\n",
       "      <td>0.264614</td>\n",
       "    </tr>\n",
       "    <tr>\n",
       "      <th>2015-10-02 05:18:41.000</th>\n",
       "      <td>0.261297</td>\n",
       "    </tr>\n",
       "    <tr>\n",
       "      <th>2015-10-02 05:18:41.796</th>\n",
       "      <td>0.258235</td>\n",
       "    </tr>\n",
       "    <tr>\n",
       "      <th>2015-10-02 05:18:41.796</th>\n",
       "      <td>0.294454</td>\n",
       "    </tr>\n",
       "    <tr>\n",
       "      <th>2015-11-14 05:26:04.000</th>\n",
       "      <td>0.294454</td>\n",
       "    </tr>\n",
       "  </tbody>\n",
       "</table>\n",
       "</div>\n",
       "    <div class=\"colab-df-buttons\">\n",
       "\n",
       "  <div class=\"colab-df-container\">\n",
       "    <button class=\"colab-df-convert\" onclick=\"convertToInteractive('df-26e859cc-98aa-4e55-a5a4-e93a9437337c')\"\n",
       "            title=\"Convert this dataframe to an interactive table.\"\n",
       "            style=\"display:none;\">\n",
       "\n",
       "  <svg xmlns=\"http://www.w3.org/2000/svg\" height=\"24px\" viewBox=\"0 -960 960 960\">\n",
       "    <path d=\"M120-120v-720h720v720H120Zm60-500h600v-160H180v160Zm220 220h160v-160H400v160Zm0 220h160v-160H400v160ZM180-400h160v-160H180v160Zm440 0h160v-160H620v160ZM180-180h160v-160H180v160Zm440 0h160v-160H620v160Z\"/>\n",
       "  </svg>\n",
       "    </button>\n",
       "\n",
       "  <style>\n",
       "    .colab-df-container {\n",
       "      display:flex;\n",
       "      gap: 12px;\n",
       "    }\n",
       "\n",
       "    .colab-df-convert {\n",
       "      background-color: #E8F0FE;\n",
       "      border: none;\n",
       "      border-radius: 50%;\n",
       "      cursor: pointer;\n",
       "      display: none;\n",
       "      fill: #1967D2;\n",
       "      height: 32px;\n",
       "      padding: 0 0 0 0;\n",
       "      width: 32px;\n",
       "    }\n",
       "\n",
       "    .colab-df-convert:hover {\n",
       "      background-color: #E2EBFA;\n",
       "      box-shadow: 0px 1px 2px rgba(60, 64, 67, 0.3), 0px 1px 3px 1px rgba(60, 64, 67, 0.15);\n",
       "      fill: #174EA6;\n",
       "    }\n",
       "\n",
       "    .colab-df-buttons div {\n",
       "      margin-bottom: 4px;\n",
       "    }\n",
       "\n",
       "    [theme=dark] .colab-df-convert {\n",
       "      background-color: #3B4455;\n",
       "      fill: #D2E3FC;\n",
       "    }\n",
       "\n",
       "    [theme=dark] .colab-df-convert:hover {\n",
       "      background-color: #434B5C;\n",
       "      box-shadow: 0px 1px 3px 1px rgba(0, 0, 0, 0.15);\n",
       "      filter: drop-shadow(0px 1px 2px rgba(0, 0, 0, 0.3));\n",
       "      fill: #FFFFFF;\n",
       "    }\n",
       "  </style>\n",
       "\n",
       "    <script>\n",
       "      const buttonEl =\n",
       "        document.querySelector('#df-26e859cc-98aa-4e55-a5a4-e93a9437337c button.colab-df-convert');\n",
       "      buttonEl.style.display =\n",
       "        google.colab.kernel.accessAllowed ? 'block' : 'none';\n",
       "\n",
       "      async function convertToInteractive(key) {\n",
       "        const element = document.querySelector('#df-26e859cc-98aa-4e55-a5a4-e93a9437337c');\n",
       "        const dataTable =\n",
       "          await google.colab.kernel.invokeFunction('convertToInteractive',\n",
       "                                                    [key], {});\n",
       "        if (!dataTable) return;\n",
       "\n",
       "        const docLinkHtml = 'Like what you see? Visit the ' +\n",
       "          '<a target=\"_blank\" href=https://colab.research.google.com/notebooks/data_table.ipynb>data table notebook</a>'\n",
       "          + ' to learn more about interactive tables.';\n",
       "        element.innerHTML = '';\n",
       "        dataTable['output_type'] = 'display_data';\n",
       "        await google.colab.output.renderOutput(dataTable, element);\n",
       "        const docLink = document.createElement('div');\n",
       "        docLink.innerHTML = docLinkHtml;\n",
       "        element.appendChild(docLink);\n",
       "      }\n",
       "    </script>\n",
       "  </div>\n",
       "\n",
       "\n",
       "<div id=\"df-613c1223-96f9-4d58-9403-0a1f5ce4265c\">\n",
       "  <button class=\"colab-df-quickchart\" onclick=\"quickchart('df-613c1223-96f9-4d58-9403-0a1f5ce4265c')\"\n",
       "            title=\"Suggest charts\"\n",
       "            style=\"display:none;\">\n",
       "\n",
       "<svg xmlns=\"http://www.w3.org/2000/svg\" height=\"24px\"viewBox=\"0 0 24 24\"\n",
       "     width=\"24px\">\n",
       "    <g>\n",
       "        <path d=\"M19 3H5c-1.1 0-2 .9-2 2v14c0 1.1.9 2 2 2h14c1.1 0 2-.9 2-2V5c0-1.1-.9-2-2-2zM9 17H7v-7h2v7zm4 0h-2V7h2v10zm4 0h-2v-4h2v4z\"/>\n",
       "    </g>\n",
       "</svg>\n",
       "  </button>\n",
       "\n",
       "<style>\n",
       "  .colab-df-quickchart {\n",
       "      --bg-color: #E8F0FE;\n",
       "      --fill-color: #1967D2;\n",
       "      --hover-bg-color: #E2EBFA;\n",
       "      --hover-fill-color: #174EA6;\n",
       "      --disabled-fill-color: #AAA;\n",
       "      --disabled-bg-color: #DDD;\n",
       "  }\n",
       "\n",
       "  [theme=dark] .colab-df-quickchart {\n",
       "      --bg-color: #3B4455;\n",
       "      --fill-color: #D2E3FC;\n",
       "      --hover-bg-color: #434B5C;\n",
       "      --hover-fill-color: #FFFFFF;\n",
       "      --disabled-bg-color: #3B4455;\n",
       "      --disabled-fill-color: #666;\n",
       "  }\n",
       "\n",
       "  .colab-df-quickchart {\n",
       "    background-color: var(--bg-color);\n",
       "    border: none;\n",
       "    border-radius: 50%;\n",
       "    cursor: pointer;\n",
       "    display: none;\n",
       "    fill: var(--fill-color);\n",
       "    height: 32px;\n",
       "    padding: 0;\n",
       "    width: 32px;\n",
       "  }\n",
       "\n",
       "  .colab-df-quickchart:hover {\n",
       "    background-color: var(--hover-bg-color);\n",
       "    box-shadow: 0 1px 2px rgba(60, 64, 67, 0.3), 0 1px 3px 1px rgba(60, 64, 67, 0.15);\n",
       "    fill: var(--button-hover-fill-color);\n",
       "  }\n",
       "\n",
       "  .colab-df-quickchart-complete:disabled,\n",
       "  .colab-df-quickchart-complete:disabled:hover {\n",
       "    background-color: var(--disabled-bg-color);\n",
       "    fill: var(--disabled-fill-color);\n",
       "    box-shadow: none;\n",
       "  }\n",
       "\n",
       "  .colab-df-spinner {\n",
       "    border: 2px solid var(--fill-color);\n",
       "    border-color: transparent;\n",
       "    border-bottom-color: var(--fill-color);\n",
       "    animation:\n",
       "      spin 1s steps(1) infinite;\n",
       "  }\n",
       "\n",
       "  @keyframes spin {\n",
       "    0% {\n",
       "      border-color: transparent;\n",
       "      border-bottom-color: var(--fill-color);\n",
       "      border-left-color: var(--fill-color);\n",
       "    }\n",
       "    20% {\n",
       "      border-color: transparent;\n",
       "      border-left-color: var(--fill-color);\n",
       "      border-top-color: var(--fill-color);\n",
       "    }\n",
       "    30% {\n",
       "      border-color: transparent;\n",
       "      border-left-color: var(--fill-color);\n",
       "      border-top-color: var(--fill-color);\n",
       "      border-right-color: var(--fill-color);\n",
       "    }\n",
       "    40% {\n",
       "      border-color: transparent;\n",
       "      border-right-color: var(--fill-color);\n",
       "      border-top-color: var(--fill-color);\n",
       "    }\n",
       "    60% {\n",
       "      border-color: transparent;\n",
       "      border-right-color: var(--fill-color);\n",
       "    }\n",
       "    80% {\n",
       "      border-color: transparent;\n",
       "      border-right-color: var(--fill-color);\n",
       "      border-bottom-color: var(--fill-color);\n",
       "    }\n",
       "    90% {\n",
       "      border-color: transparent;\n",
       "      border-bottom-color: var(--fill-color);\n",
       "    }\n",
       "  }\n",
       "</style>\n",
       "\n",
       "  <script>\n",
       "    async function quickchart(key) {\n",
       "      const quickchartButtonEl =\n",
       "        document.querySelector('#' + key + ' button');\n",
       "      quickchartButtonEl.disabled = true;  // To prevent multiple clicks.\n",
       "      quickchartButtonEl.classList.add('colab-df-spinner');\n",
       "      try {\n",
       "        const charts = await google.colab.kernel.invokeFunction(\n",
       "            'suggestCharts', [key], {});\n",
       "      } catch (error) {\n",
       "        console.error('Error during call to suggestCharts:', error);\n",
       "      }\n",
       "      quickchartButtonEl.classList.remove('colab-df-spinner');\n",
       "      quickchartButtonEl.classList.add('colab-df-quickchart-complete');\n",
       "    }\n",
       "    (() => {\n",
       "      let quickchartButtonEl =\n",
       "        document.querySelector('#df-613c1223-96f9-4d58-9403-0a1f5ce4265c button');\n",
       "      quickchartButtonEl.style.display =\n",
       "        google.colab.kernel.accessAllowed ? 'block' : 'none';\n",
       "    })();\n",
       "  </script>\n",
       "</div>\n",
       "    </div>\n",
       "  </div>\n"
      ],
      "text/plain": [
       "                             ndvi\n",
       "2015-10-02 05:18:41.000  0.264614\n",
       "2015-10-02 05:18:41.000  0.261297\n",
       "2015-10-02 05:18:41.796  0.258235\n",
       "2015-10-02 05:18:41.796  0.294454\n",
       "2015-11-14 05:26:04.000  0.294454"
      ]
     },
     "execution_count": 19,
     "metadata": {},
     "output_type": "execute_result"
    }
   ],
   "source": [
    "ndvi_df = pd.DataFrame({'ndvi': ndvi_list[:len(dates)]}, index=dates)\n",
    "ndvi_df.head()"
   ]
  },
  {
   "cell_type": "code",
   "execution_count": null,
   "id": "09602d73",
   "metadata": {
    "colab": {
     "base_uri": "https://localhost:8080/",
     "height": 487
    },
    "id": "09602d73",
    "outputId": "167fba6a-2223-42d0-8e5f-0065884064c1"
   },
   "outputs": [
    {
     "data": {
      "image/png": "[encoded data removed]",
      "text/plain": [
       "<Figure size 1000x500 with 1 Axes>"
      ]
     },
     "metadata": {},
     "output_type": "display_data"
    }
   ],
   "source": [
    "fig, ax = plt.subplots(figsize=(10, 5))\n",
    "ax.plot(ndvi_df.index, ndvi_df['ndvi'], color='green')\n",
    "\n",
    "ax.set_title('NDVI Time Series')\n",
    "ax.set_xlabel('Date')\n",
    "ax.set_ylabel('NDVI')\n",
    "\n",
    "plt.show()"
   ]
  },
  {
   "cell_type": "code",
   "execution_count": null,
   "id": "74f13166",
   "metadata": {
    "colab": {
     "base_uri": "https://localhost:8080/",
     "height": 496
    },
    "id": "74f13166",
    "outputId": "1b2dcdcd-3805-4ff8-94e8-98e1d7642917"
   },
   "outputs": [
    {
     "data": {
      "text/plain": [
       "<Axes: >"
      ]
     },
     "execution_count": 21,
     "metadata": {},
     "output_type": "execute_result"
    },
    {
     "data": {
      "image/png": "[encoded data removed]",
      "text/plain": [
       "<Figure size 1500x600 with 1 Axes>"
      ]
     },
     "metadata": {},
     "output_type": "display_data"
    }
   ],
   "source": [
    "matplotlib.rcParams['axes.labelsize'] = 12\n",
    "matplotlib.rcParams['xtick.labelsize'] = 10\n",
    "matplotlib.rcParams['ytick.labelsize'] = 10\n",
    "matplotlib.rcParams['text.color'] = 'k'\n",
    "plt.style.use('fivethirtyeight')\n",
    "\n",
    "ndvi_df.plot(figsize=(15,6))"
   ]
  },
  {
   "cell_type": "code",
   "execution_count": null,
   "id": "e50d7b3b",
   "metadata": {
    "colab": {
     "base_uri": "https://localhost:8080/",
     "height": 206
    },
    "id": "e50d7b3b",
    "outputId": "69117807-9d85-48ac-e5f0-547742f1c98f"
   },
   "outputs": [
    {
     "data": {
      "text/html": [
       "\n",
       "  <div id=\"df-70acd068-87c9-4cc8-8c98-d605011cb1a6\" class=\"colab-df-container\">\n",
       "    <div>\n",
       "<style scoped>\n",
       "    .dataframe tbody tr th:only-of-type {\n",
       "        vertical-align: middle;\n",
       "    }\n",
       "\n",
       "    .dataframe tbody tr th {\n",
       "        vertical-align: top;\n",
       "    }\n",
       "\n",
       "    .dataframe thead th {\n",
       "        text-align: right;\n",
       "    }\n",
       "</style>\n",
       "<table border=\"1\" class=\"dataframe\">\n",
       "  <thead>\n",
       "    <tr style=\"text-align: right;\">\n",
       "      <th></th>\n",
       "      <th>index</th>\n",
       "      <th>ndvi</th>\n",
       "    </tr>\n",
       "  </thead>\n",
       "  <tbody>\n",
       "    <tr>\n",
       "      <th>0</th>\n",
       "      <td>2015-10-02 05:18:41.000</td>\n",
       "      <td>0.264614</td>\n",
       "    </tr>\n",
       "    <tr>\n",
       "      <th>1</th>\n",
       "      <td>2015-10-02 05:18:41.000</td>\n",
       "      <td>0.261297</td>\n",
       "    </tr>\n",
       "    <tr>\n",
       "      <th>2</th>\n",
       "      <td>2015-10-02 05:18:41.796</td>\n",
       "      <td>0.258235</td>\n",
       "    </tr>\n",
       "    <tr>\n",
       "      <th>3</th>\n",
       "      <td>2015-10-02 05:18:41.796</td>\n",
       "      <td>0.294454</td>\n",
       "    </tr>\n",
       "    <tr>\n",
       "      <th>4</th>\n",
       "      <td>2015-11-14 05:26:04.000</td>\n",
       "      <td>0.294454</td>\n",
       "    </tr>\n",
       "  </tbody>\n",
       "</table>\n",
       "</div>\n",
       "    <div class=\"colab-df-buttons\">\n",
       "\n",
       "  <div class=\"colab-df-container\">\n",
       "    <button class=\"colab-df-convert\" onclick=\"convertToInteractive('df-70acd068-87c9-4cc8-8c98-d605011cb1a6')\"\n",
       "            title=\"Convert this dataframe to an interactive table.\"\n",
       "            style=\"display:none;\">\n",
       "\n",
       "  <svg xmlns=\"http://www.w3.org/2000/svg\" height=\"24px\" viewBox=\"0 -960 960 960\">\n",
       "    <path d=\"M120-120v-720h720v720H120Zm60-500h600v-160H180v160Zm220 220h160v-160H400v160Zm0 220h160v-160H400v160ZM180-400h160v-160H180v160Zm440 0h160v-160H620v160ZM180-180h160v-160H180v160Zm440 0h160v-160H620v160Z\"/>\n",
       "  </svg>\n",
       "    </button>\n",
       "\n",
       "  <style>\n",
       "    .colab-df-container {\n",
       "      display:flex;\n",
       "      gap: 12px;\n",
       "    }\n",
       "\n",
       "    .colab-df-convert {\n",
       "      background-color: #E8F0FE;\n",
       "      border: none;\n",
       "      border-radius: 50%;\n",
       "      cursor: pointer;\n",
       "      display: none;\n",
       "      fill: #1967D2;\n",
       "      height: 32px;\n",
       "      padding: 0 0 0 0;\n",
       "      width: 32px;\n",
       "    }\n",
       "\n",
       "    .colab-df-convert:hover {\n",
       "      background-color: #E2EBFA;\n",
       "      box-shadow: 0px 1px 2px rgba(60, 64, 67, 0.3), 0px 1px 3px 1px rgba(60, 64, 67, 0.15);\n",
       "      fill: #174EA6;\n",
       "    }\n",
       "\n",
       "    .colab-df-buttons div {\n",
       "      margin-bottom: 4px;\n",
       "    }\n",
       "\n",
       "    [theme=dark] .colab-df-convert {\n",
       "      background-color: #3B4455;\n",
       "      fill: #D2E3FC;\n",
       "    }\n",
       "\n",
       "    [theme=dark] .colab-df-convert:hover {\n",
       "      background-color: #434B5C;\n",
       "      box-shadow: 0px 1px 3px 1px rgba(0, 0, 0, 0.15);\n",
       "      filter: drop-shadow(0px 1px 2px rgba(0, 0, 0, 0.3));\n",
       "      fill: #FFFFFF;\n",
       "    }\n",
       "  </style>\n",
       "\n",
       "    <script>\n",
       "      const buttonEl =\n",
       "        document.querySelector('#df-70acd068-87c9-4cc8-8c98-d605011cb1a6 button.colab-df-convert');\n",
       "      buttonEl.style.display =\n",
       "        google.colab.kernel.accessAllowed ? 'block' : 'none';\n",
       "\n",
       "      async function convertToInteractive(key) {\n",
       "        const element = document.querySelector('#df-70acd068-87c9-4cc8-8c98-d605011cb1a6');\n",
       "        const dataTable =\n",
       "          await google.colab.kernel.invokeFunction('convertToInteractive',\n",
       "                                                    [key], {});\n",
       "        if (!dataTable) return;\n",
       "\n",
       "        const docLinkHtml = 'Like what you see? Visit the ' +\n",
       "          '<a target=\"_blank\" href=https://colab.research.google.com/notebooks/data_table.ipynb>data table notebook</a>'\n",
       "          + ' to learn more about interactive tables.';\n",
       "        element.innerHTML = '';\n",
       "        dataTable['output_type'] = 'display_data';\n",
       "        await google.colab.output.renderOutput(dataTable, element);\n",
       "        const docLink = document.createElement('div');\n",
       "        docLink.innerHTML = docLinkHtml;\n",
       "        element.appendChild(docLink);\n",
       "      }\n",
       "    </script>\n",
       "  </div>\n",
       "\n",
       "\n",
       "<div id=\"df-612b8514-5894-43fb-bfc5-dfe2ae99f766\">\n",
       "  <button class=\"colab-df-quickchart\" onclick=\"quickchart('df-612b8514-5894-43fb-bfc5-dfe2ae99f766')\"\n",
       "            title=\"Suggest charts\"\n",
       "            style=\"display:none;\">\n",
       "\n",
       "<svg xmlns=\"http://www.w3.org/2000/svg\" height=\"24px\"viewBox=\"0 0 24 24\"\n",
       "     width=\"24px\">\n",
       "    <g>\n",
       "        <path d=\"M19 3H5c-1.1 0-2 .9-2 2v14c0 1.1.9 2 2 2h14c1.1 0 2-.9 2-2V5c0-1.1-.9-2-2-2zM9 17H7v-7h2v7zm4 0h-2V7h2v10zm4 0h-2v-4h2v4z\"/>\n",
       "    </g>\n",
       "</svg>\n",
       "  </button>\n",
       "\n",
       "<style>\n",
       "  .colab-df-quickchart {\n",
       "      --bg-color: #E8F0FE;\n",
       "      --fill-color: #1967D2;\n",
       "      --hover-bg-color: #E2EBFA;\n",
       "      --hover-fill-color: #174EA6;\n",
       "      --disabled-fill-color: #AAA;\n",
       "      --disabled-bg-color: #DDD;\n",
       "  }\n",
       "\n",
       "  [theme=dark] .colab-df-quickchart {\n",
       "      --bg-color: #3B4455;\n",
       "      --fill-color: #D2E3FC;\n",
       "      --hover-bg-color: #434B5C;\n",
       "      --hover-fill-color: #FFFFFF;\n",
       "      --disabled-bg-color: #3B4455;\n",
       "      --disabled-fill-color: #666;\n",
       "  }\n",
       "\n",
       "  .colab-df-quickchart {\n",
       "    background-color: var(--bg-color);\n",
       "    border: none;\n",
       "    border-radius: 50%;\n",
       "    cursor: pointer;\n",
       "    display: none;\n",
       "    fill: var(--fill-color);\n",
       "    height: 32px;\n",
       "    padding: 0;\n",
       "    width: 32px;\n",
       "  }\n",
       "\n",
       "  .colab-df-quickchart:hover {\n",
       "    background-color: var(--hover-bg-color);\n",
       "    box-shadow: 0 1px 2px rgba(60, 64, 67, 0.3), 0 1px 3px 1px rgba(60, 64, 67, 0.15);\n",
       "    fill: var(--button-hover-fill-color);\n",
       "  }\n",
       "\n",
       "  .colab-df-quickchart-complete:disabled,\n",
       "  .colab-df-quickchart-complete:disabled:hover {\n",
       "    background-color: var(--disabled-bg-color);\n",
       "    fill: var(--disabled-fill-color);\n",
       "    box-shadow: none;\n",
       "  }\n",
       "\n",
       "  .colab-df-spinner {\n",
       "    border: 2px solid var(--fill-color);\n",
       "    border-color: transparent;\n",
       "    border-bottom-color: var(--fill-color);\n",
       "    animation:\n",
       "      spin 1s steps(1) infinite;\n",
       "  }\n",
       "\n",
       "  @keyframes spin {\n",
       "    0% {\n",
       "      border-color: transparent;\n",
       "      border-bottom-color: var(--fill-color);\n",
       "      border-left-color: var(--fill-color);\n",
       "    }\n",
       "    20% {\n",
       "      border-color: transparent;\n",
       "      border-left-color: var(--fill-color);\n",
       "      border-top-color: var(--fill-color);\n",
       "    }\n",
       "    30% {\n",
       "      border-color: transparent;\n",
       "      border-left-color: var(--fill-color);\n",
       "      border-top-color: var(--fill-color);\n",
       "      border-right-color: var(--fill-color);\n",
       "    }\n",
       "    40% {\n",
       "      border-color: transparent;\n",
       "      border-right-color: var(--fill-color);\n",
       "      border-top-color: var(--fill-color);\n",
       "    }\n",
       "    60% {\n",
       "      border-color: transparent;\n",
       "      border-right-color: var(--fill-color);\n",
       "    }\n",
       "    80% {\n",
       "      border-color: transparent;\n",
       "      border-right-color: var(--fill-color);\n",
       "      border-bottom-color: var(--fill-color);\n",
       "    }\n",
       "    90% {\n",
       "      border-color: transparent;\n",
       "      border-bottom-color: var(--fill-color);\n",
       "    }\n",
       "  }\n",
       "</style>\n",
       "\n",
       "  <script>\n",
       "    async function quickchart(key) {\n",
       "      const quickchartButtonEl =\n",
       "        document.querySelector('#' + key + ' button');\n",
       "      quickchartButtonEl.disabled = true;  // To prevent multiple clicks.\n",
       "      quickchartButtonEl.classList.add('colab-df-spinner');\n",
       "      try {\n",
       "        const charts = await google.colab.kernel.invokeFunction(\n",
       "            'suggestCharts', [key], {});\n",
       "      } catch (error) {\n",
       "        console.error('Error during call to suggestCharts:', error);\n",
       "      }\n",
       "      quickchartButtonEl.classList.remove('colab-df-spinner');\n",
       "      quickchartButtonEl.classList.add('colab-df-quickchart-complete');\n",
       "    }\n",
       "    (() => {\n",
       "      let quickchartButtonEl =\n",
       "        document.querySelector('#df-612b8514-5894-43fb-bfc5-dfe2ae99f766 button');\n",
       "      quickchartButtonEl.style.display =\n",
       "        google.colab.kernel.accessAllowed ? 'block' : 'none';\n",
       "    })();\n",
       "  </script>\n",
       "</div>\n",
       "    </div>\n",
       "  </div>\n"
      ],
      "text/plain": [
       "                    index      ndvi\n",
       "0 2015-10-02 05:18:41.000  0.264614\n",
       "1 2015-10-02 05:18:41.000  0.261297\n",
       "2 2015-10-02 05:18:41.796  0.258235\n",
       "3 2015-10-02 05:18:41.796  0.294454\n",
       "4 2015-11-14 05:26:04.000  0.294454"
      ]
     },
     "execution_count": 22,
     "metadata": {},
     "output_type": "execute_result"
    }
   ],
   "source": [
    "ndvi_df.reset_index(inplace=True)\n",
    "ndvi_df.head()"
   ]
  },
  {
   "cell_type": "code",
   "execution_count": null,
   "id": "fca21748",
   "metadata": {
    "id": "fca21748"
   },
   "outputs": [],
   "source": [
    "ndvi_df['index'] = ndvi_df['index'].dt.date"
   ]
  },
  {
   "cell_type": "code",
   "execution_count": null,
   "id": "e2df12d1",
   "metadata": {
    "id": "e2df12d1"
   },
   "outputs": [],
   "source": [
    "ndvi_df['index'] = pd.to_datetime(ndvi_df['index'], format='%Y-%m')\n",
    "ndvi_df = ndvi_df.set_index('index')"
   ]
  },
  {
   "cell_type": "markdown",
   "id": "6845cd38",
   "metadata": {
    "id": "6845cd38"
   },
   "source": [
    "#### Remove duplicates from the index/date column to ensure we have only one ndvi reading per day"
   ]
  },
  {
   "cell_type": "code",
   "execution_count": null,
   "id": "d64f9eda",
   "metadata": {
    "colab": {
     "base_uri": "https://localhost:8080/",
     "height": 237
    },
    "id": "d64f9eda",
    "outputId": "401801f4-0e75-4dd9-b768-89d5015e8a24"
   },
   "outputs": [
    {
     "data": {
      "text/html": [
       "\n",
       "  <div id=\"df-a364dc63-62d7-4052-b11e-1b47ef27fffd\" class=\"colab-df-container\">\n",
       "    <div>\n",
       "<style scoped>\n",
       "    .dataframe tbody tr th:only-of-type {\n",
       "        vertical-align: middle;\n",
       "    }\n",
       "\n",
       "    .dataframe tbody tr th {\n",
       "        vertical-align: top;\n",
       "    }\n",
       "\n",
       "    .dataframe thead th {\n",
       "        text-align: right;\n",
       "    }\n",
       "</style>\n",
       "<table border=\"1\" class=\"dataframe\">\n",
       "  <thead>\n",
       "    <tr style=\"text-align: right;\">\n",
       "      <th></th>\n",
       "      <th>ndvi</th>\n",
       "    </tr>\n",
       "    <tr>\n",
       "      <th>index</th>\n",
       "      <th></th>\n",
       "    </tr>\n",
       "  </thead>\n",
       "  <tbody>\n",
       "    <tr>\n",
       "      <th>2015-10-02</th>\n",
       "      <td>0.264614</td>\n",
       "    </tr>\n",
       "    <tr>\n",
       "      <th>2015-11-14</th>\n",
       "      <td>0.294454</td>\n",
       "    </tr>\n",
       "    <tr>\n",
       "      <th>2015-11-24</th>\n",
       "      <td>0.305179</td>\n",
       "    </tr>\n",
       "    <tr>\n",
       "      <th>2016-01-10</th>\n",
       "      <td>0.306767</td>\n",
       "    </tr>\n",
       "    <tr>\n",
       "      <th>2016-02-09</th>\n",
       "      <td>0.296424</td>\n",
       "    </tr>\n",
       "  </tbody>\n",
       "</table>\n",
       "</div>\n",
       "    <div class=\"colab-df-buttons\">\n",
       "\n",
       "  <div class=\"colab-df-container\">\n",
       "    <button class=\"colab-df-convert\" onclick=\"convertToInteractive('df-a364dc63-62d7-4052-b11e-1b47ef27fffd')\"\n",
       "            title=\"Convert this dataframe to an interactive table.\"\n",
       "            style=\"display:none;\">\n",
       "\n",
       "  <svg xmlns=\"http://www.w3.org/2000/svg\" height=\"24px\" viewBox=\"0 -960 960 960\">\n",
       "    <path d=\"M120-120v-720h720v720H120Zm60-500h600v-160H180v160Zm220 220h160v-160H400v160Zm0 220h160v-160H400v160ZM180-400h160v-160H180v160Zm440 0h160v-160H620v160ZM180-180h160v-160H180v160Zm440 0h160v-160H620v160Z\"/>\n",
       "  </svg>\n",
       "    </button>\n",
       "\n",
       "  <style>\n",
       "    .colab-df-container {\n",
       "      display:flex;\n",
       "      gap: 12px;\n",
       "    }\n",
       "\n",
       "    .colab-df-convert {\n",
       "      background-color: #E8F0FE;\n",
       "      border: none;\n",
       "      border-radius: 50%;\n",
       "      cursor: pointer;\n",
       "      display: none;\n",
       "      fill: #1967D2;\n",
       "      height: 32px;\n",
       "      padding: 0 0 0 0;\n",
       "      width: 32px;\n",
       "    }\n",
       "\n",
       "    .colab-df-convert:hover {\n",
       "      background-color: #E2EBFA;\n",
       "      box-shadow: 0px 1px 2px rgba(60, 64, 67, 0.3), 0px 1px 3px 1px rgba(60, 64, 67, 0.15);\n",
       "      fill: #174EA6;\n",
       "    }\n",
       "\n",
       "    .colab-df-buttons div {\n",
       "      margin-bottom: 4px;\n",
       "    }\n",
       "\n",
       "    [theme=dark] .colab-df-convert {\n",
       "      background-color: #3B4455;\n",
       "      fill: #D2E3FC;\n",
       "    }\n",
       "\n",
       "    [theme=dark] .colab-df-convert:hover {\n",
       "      background-color: #434B5C;\n",
       "      box-shadow: 0px 1px 3px 1px rgba(0, 0, 0, 0.15);\n",
       "      filter: drop-shadow(0px 1px 2px rgba(0, 0, 0, 0.3));\n",
       "      fill: #FFFFFF;\n",
       "    }\n",
       "  </style>\n",
       "\n",
       "    <script>\n",
       "      const buttonEl =\n",
       "        document.querySelector('#df-a364dc63-62d7-4052-b11e-1b47ef27fffd button.colab-df-convert');\n",
       "      buttonEl.style.display =\n",
       "        google.colab.kernel.accessAllowed ? 'block' : 'none';\n",
       "\n",
       "      async function convertToInteractive(key) {\n",
       "        const element = document.querySelector('#df-a364dc63-62d7-4052-b11e-1b47ef27fffd');\n",
       "        const dataTable =\n",
       "          await google.colab.kernel.invokeFunction('convertToInteractive',\n",
       "                                                    [key], {});\n",
       "        if (!dataTable) return;\n",
       "\n",
       "        const docLinkHtml = 'Like what you see? Visit the ' +\n",
       "          '<a target=\"_blank\" href=https://colab.research.google.com/notebooks/data_table.ipynb>data table notebook</a>'\n",
       "          + ' to learn more about interactive tables.';\n",
       "        element.innerHTML = '';\n",
       "        dataTable['output_type'] = 'display_data';\n",
       "        await google.colab.output.renderOutput(dataTable, element);\n",
       "        const docLink = document.createElement('div');\n",
       "        docLink.innerHTML = docLinkHtml;\n",
       "        element.appendChild(docLink);\n",
       "      }\n",
       "    </script>\n",
       "  </div>\n",
       "\n",
       "\n",
       "<div id=\"df-d058e477-f382-4221-bc57-fa525fe34260\">\n",
       "  <button class=\"colab-df-quickchart\" onclick=\"quickchart('df-d058e477-f382-4221-bc57-fa525fe34260')\"\n",
       "            title=\"Suggest charts\"\n",
       "            style=\"display:none;\">\n",
       "\n",
       "<svg xmlns=\"http://www.w3.org/2000/svg\" height=\"24px\"viewBox=\"0 0 24 24\"\n",
       "     width=\"24px\">\n",
       "    <g>\n",
       "        <path d=\"M19 3H5c-1.1 0-2 .9-2 2v14c0 1.1.9 2 2 2h14c1.1 0 2-.9 2-2V5c0-1.1-.9-2-2-2zM9 17H7v-7h2v7zm4 0h-2V7h2v10zm4 0h-2v-4h2v4z\"/>\n",
       "    </g>\n",
       "</svg>\n",
       "  </button>\n",
       "\n",
       "<style>\n",
       "  .colab-df-quickchart {\n",
       "      --bg-color: #E8F0FE;\n",
       "      --fill-color: #1967D2;\n",
       "      --hover-bg-color: #E2EBFA;\n",
       "      --hover-fill-color: #174EA6;\n",
       "      --disabled-fill-color: #AAA;\n",
       "      --disabled-bg-color: #DDD;\n",
       "  }\n",
       "\n",
       "  [theme=dark] .colab-df-quickchart {\n",
       "      --bg-color: #3B4455;\n",
       "      --fill-color: #D2E3FC;\n",
       "      --hover-bg-color: #434B5C;\n",
       "      --hover-fill-color: #FFFFFF;\n",
       "      --disabled-bg-color: #3B4455;\n",
       "      --disabled-fill-color: #666;\n",
       "  }\n",
       "\n",
       "  .colab-df-quickchart {\n",
       "    background-color: var(--bg-color);\n",
       "    border: none;\n",
       "    border-radius: 50%;\n",
       "    cursor: pointer;\n",
       "    display: none;\n",
       "    fill: var(--fill-color);\n",
       "    height: 32px;\n",
       "    padding: 0;\n",
       "    width: 32px;\n",
       "  }\n",
       "\n",
       "  .colab-df-quickchart:hover {\n",
       "    background-color: var(--hover-bg-color);\n",
       "    box-shadow: 0 1px 2px rgba(60, 64, 67, 0.3), 0 1px 3px 1px rgba(60, 64, 67, 0.15);\n",
       "    fill: var(--button-hover-fill-color);\n",
       "  }\n",
       "\n",
       "  .colab-df-quickchart-complete:disabled,\n",
       "  .colab-df-quickchart-complete:disabled:hover {\n",
       "    background-color: var(--disabled-bg-color);\n",
       "    fill: var(--disabled-fill-color);\n",
       "    box-shadow: none;\n",
       "  }\n",
       "\n",
       "  .colab-df-spinner {\n",
       "    border: 2px solid var(--fill-color);\n",
       "    border-color: transparent;\n",
       "    border-bottom-color: var(--fill-color);\n",
       "    animation:\n",
       "      spin 1s steps(1) infinite;\n",
       "  }\n",
       "\n",
       "  @keyframes spin {\n",
       "    0% {\n",
       "      border-color: transparent;\n",
       "      border-bottom-color: var(--fill-color);\n",
       "      border-left-color: var(--fill-color);\n",
       "    }\n",
       "    20% {\n",
       "      border-color: transparent;\n",
       "      border-left-color: var(--fill-color);\n",
       "      border-top-color: var(--fill-color);\n",
       "    }\n",
       "    30% {\n",
       "      border-color: transparent;\n",
       "      border-left-color: var(--fill-color);\n",
       "      border-top-color: var(--fill-color);\n",
       "      border-right-color: var(--fill-color);\n",
       "    }\n",
       "    40% {\n",
       "      border-color: transparent;\n",
       "      border-right-color: var(--fill-color);\n",
       "      border-top-color: var(--fill-color);\n",
       "    }\n",
       "    60% {\n",
       "      border-color: transparent;\n",
       "      border-right-color: var(--fill-color);\n",
       "    }\n",
       "    80% {\n",
       "      border-color: transparent;\n",
       "      border-right-color: var(--fill-color);\n",
       "      border-bottom-color: var(--fill-color);\n",
       "    }\n",
       "    90% {\n",
       "      border-color: transparent;\n",
       "      border-bottom-color: var(--fill-color);\n",
       "    }\n",
       "  }\n",
       "</style>\n",
       "\n",
       "  <script>\n",
       "    async function quickchart(key) {\n",
       "      const quickchartButtonEl =\n",
       "        document.querySelector('#' + key + ' button');\n",
       "      quickchartButtonEl.disabled = true;  // To prevent multiple clicks.\n",
       "      quickchartButtonEl.classList.add('colab-df-spinner');\n",
       "      try {\n",
       "        const charts = await google.colab.kernel.invokeFunction(\n",
       "            'suggestCharts', [key], {});\n",
       "      } catch (error) {\n",
       "        console.error('Error during call to suggestCharts:', error);\n",
       "      }\n",
       "      quickchartButtonEl.classList.remove('colab-df-spinner');\n",
       "      quickchartButtonEl.classList.add('colab-df-quickchart-complete');\n",
       "    }\n",
       "    (() => {\n",
       "      let quickchartButtonEl =\n",
       "        document.querySelector('#df-d058e477-f382-4221-bc57-fa525fe34260 button');\n",
       "      quickchartButtonEl.style.display =\n",
       "        google.colab.kernel.accessAllowed ? 'block' : 'none';\n",
       "    })();\n",
       "  </script>\n",
       "</div>\n",
       "    </div>\n",
       "  </div>\n"
      ],
      "text/plain": [
       "                ndvi\n",
       "index               \n",
       "2015-10-02  0.264614\n",
       "2015-11-14  0.294454\n",
       "2015-11-24  0.305179\n",
       "2016-01-10  0.306767\n",
       "2016-02-09  0.296424"
      ]
     },
     "execution_count": 25,
     "metadata": {},
     "output_type": "execute_result"
    }
   ],
   "source": [
    "index = ndvi_df.index\n",
    "is_duplicate = index.duplicated(keep='first')\n",
    "not_duplicate = ~is_duplicate\n",
    "ndvi_new = ndvi_df[not_duplicate]\n",
    "ndvi_new.head()"
   ]
  },
  {
   "cell_type": "markdown",
   "id": "8796d87e",
   "metadata": {
    "id": "8796d87e"
   },
   "source": [
    "#### Interpolating data so we have readings for all days."
   ]
  },
  {
   "cell_type": "code",
   "execution_count": null,
   "id": "3fffb9be",
   "metadata": {
    "colab": {
     "base_uri": "https://localhost:8080/",
     "height": 709
    },
    "id": "3fffb9be",
    "outputId": "940a9f26-5895-4318-9add-ac34c29452ef"
   },
   "outputs": [
    {
     "name": "stdout",
     "output_type": "stream",
     "text": [
      "                ndvi\n",
      "index               \n",
      "2015-10-02  0.264614\n",
      "2015-10-03  0.265308\n",
      "2015-10-04  0.266002\n",
      "2015-10-05  0.266696\n",
      "2015-10-06  0.267390\n"
     ]
    },
    {
     "data": {
      "text/plain": [
       "<Axes: xlabel='index'>"
      ]
     },
     "execution_count": 26,
     "metadata": {},
     "output_type": "execute_result"
    },
    {
     "data": {
      "image/png": "[encoded data removed]",
      "text/plain": [
       "<Figure size 1500x600 with 1 Axes>"
      ]
     },
     "metadata": {},
     "output_type": "display_data"
    }
   ],
   "source": [
    "upsampled = ndvi_new.resample('D')\n",
    "interpolated = upsampled.interpolate(method='linear')\n",
    "\n",
    "print(interpolated.head())\n",
    "\n",
    "interpolated.plot(figsize=(15,6))"
   ]
  },
  {
   "cell_type": "code",
   "execution_count": null,
   "id": "dRaaoq2_b9J3",
   "metadata": {
    "colab": {
     "base_uri": "https://localhost:8080/"
    },
    "id": "dRaaoq2_b9J3",
    "outputId": "f3051de0-180e-426a-9a1d-d5c58de0804d"
   },
   "outputs": [
    {
     "name": "stdout",
     "output_type": "stream",
     "text": [
      "<class 'pandas.core.frame.DataFrame'>\n"
     ]
    }
   ],
   "source": [
    "print(type(interpolated))\n",
    "interpolated.to_csv('ndvi_interpolated.csv', index=True)"
   ]
  },
  {
   "cell_type": "markdown",
   "id": "65e4d6cd",
   "metadata": {
    "id": "65e4d6cd"
   },
   "source": [
    "#### Converting data to a time_series favourable format"
   ]
  },
  {
   "cell_type": "code",
   "execution_count": null,
   "id": "b06b32f0",
   "metadata": {
    "id": "b06b32f0"
   },
   "outputs": [],
   "source": [
    "# def series_to_supervised(data, n_in=1, n_out=1, dropnan=True):\n",
    "\n",
    "#     n_vars = 1 if type(data) is list else data.shape[1]\n",
    "#     df = pd.DataFrame(data)\n",
    "#     cols, names = list(), list()\n",
    "\n",
    "#     for i in range(n_in, 0, -1):\n",
    "#         cols.append(df.shift(i))\n",
    "#         names += [('var%d(t-%d)' % (j+1, i)) for j in range(n_vars)]\n",
    "\n",
    "#     for i in range(0, n_out):\n",
    "#         cols.append(df.shift(-i))\n",
    "#         if i == 0:\n",
    "#             names += [('var%d(t)' % (j+1)) for j in range(n_vars)]\n",
    "#         else:\n",
    "#             names += [('var%d(t+%d)' % (j+1, i)) for j in range(n_vars)]\n",
    "\n",
    "#     agg = pd.concat(cols, axis=1)\n",
    "#     agg.columns = names\n",
    "\n",
    "#     if dropnan:\n",
    "#         agg.dropna(inplace=True)\n",
    "#     return agg"
   ]
  },
  {
   "cell_type": "code",
   "execution_count": null,
   "id": "a94a5532",
   "metadata": {
    "id": "a94a5532"
   },
   "outputs": [],
   "source": [
    "# values = interpolated.values\n",
    "\n",
    "# final_df = series_to_supervised(values, 14, 1)\n",
    "\n",
    "# final_df.head(14)"
   ]
  },
  {
   "cell_type": "code",
   "execution_count": null,
   "id": "LwFvPJ9oGAf9",
   "metadata": {
    "colab": {
     "base_uri": "https://localhost:8080/",
     "height": 441
    },
    "id": "LwFvPJ9oGAf9",
    "outputId": "0418f944-f4ef-4d1b-e004-5cf4712455b8"
   },
   "outputs": [
    {
     "name": "stdout",
     "output_type": "stream",
     "text": [
      "<class 'pandas.core.frame.DataFrame'>\n"
     ]
    },
    {
     "data": {
      "text/html": [
       "\n",
       "  <div id=\"df-5c563b8c-e0b0-42f9-9cd6-d2cd4dabee2e\" class=\"colab-df-container\">\n",
       "    <div>\n",
       "<style scoped>\n",
       "    .dataframe tbody tr th:only-of-type {\n",
       "        vertical-align: middle;\n",
       "    }\n",
       "\n",
       "    .dataframe tbody tr th {\n",
       "        vertical-align: top;\n",
       "    }\n",
       "\n",
       "    .dataframe thead th {\n",
       "        text-align: right;\n",
       "    }\n",
       "</style>\n",
       "<table border=\"1\" class=\"dataframe\">\n",
       "  <thead>\n",
       "    <tr style=\"text-align: right;\">\n",
       "      <th></th>\n",
       "      <th>ndvi</th>\n",
       "      <th>evaporation_from_vegetation_transpiration_sum</th>\n",
       "      <th>soil_temperature_level_1</th>\n",
       "      <th>surface_net_solar_radiation_sum</th>\n",
       "      <th>temperature_2m</th>\n",
       "      <th>total_precipitation_sum</th>\n",
       "    </tr>\n",
       "  </thead>\n",
       "  <tbody>\n",
       "    <tr>\n",
       "      <th>0</th>\n",
       "      <td>0.294454</td>\n",
       "      <td>0.000000e+00</td>\n",
       "      <td>301.237361</td>\n",
       "      <td>17300000.0</td>\n",
       "      <td>299.785082</td>\n",
       "      <td>0.000000e+00</td>\n",
       "    </tr>\n",
       "    <tr>\n",
       "      <th>1</th>\n",
       "      <td>0.294374</td>\n",
       "      <td>0.000000e+00</td>\n",
       "      <td>300.670247</td>\n",
       "      <td>17400000.0</td>\n",
       "      <td>299.757111</td>\n",
       "      <td>1.280000e-06</td>\n",
       "    </tr>\n",
       "    <tr>\n",
       "      <th>2</th>\n",
       "      <td>0.294293</td>\n",
       "      <td>0.000000e+00</td>\n",
       "      <td>301.611605</td>\n",
       "      <td>16900000.0</td>\n",
       "      <td>300.595834</td>\n",
       "      <td>0.000000e+00</td>\n",
       "    </tr>\n",
       "    <tr>\n",
       "      <th>3</th>\n",
       "      <td>0.294212</td>\n",
       "      <td>0.000000e+00</td>\n",
       "      <td>302.113707</td>\n",
       "      <td>16100000.0</td>\n",
       "      <td>300.924228</td>\n",
       "      <td>1.270000e-06</td>\n",
       "    </tr>\n",
       "    <tr>\n",
       "      <th>4</th>\n",
       "      <td>0.294132</td>\n",
       "      <td>0.000000e+00</td>\n",
       "      <td>302.338162</td>\n",
       "      <td>16300000.0</td>\n",
       "      <td>301.113778</td>\n",
       "      <td>8.670000e-07</td>\n",
       "    </tr>\n",
       "    <tr>\n",
       "      <th>...</th>\n",
       "      <td>...</td>\n",
       "      <td>...</td>\n",
       "      <td>...</td>\n",
       "      <td>...</td>\n",
       "      <td>...</td>\n",
       "      <td>...</td>\n",
       "    </tr>\n",
       "    <tr>\n",
       "      <th>2631</th>\n",
       "      <td>0.305235</td>\n",
       "      <td>0.000000e+00</td>\n",
       "      <td>290.069274</td>\n",
       "      <td>12200000.0</td>\n",
       "      <td>287.988349</td>\n",
       "      <td>0.000000e+00</td>\n",
       "    </tr>\n",
       "    <tr>\n",
       "      <th>2632</th>\n",
       "      <td>0.299864</td>\n",
       "      <td>9.310000e-10</td>\n",
       "      <td>289.658445</td>\n",
       "      <td>11900000.0</td>\n",
       "      <td>287.359432</td>\n",
       "      <td>8.550000e-07</td>\n",
       "    </tr>\n",
       "    <tr>\n",
       "      <th>2633</th>\n",
       "      <td>0.294492</td>\n",
       "      <td>0.000000e+00</td>\n",
       "      <td>289.583420</td>\n",
       "      <td>11800000.0</td>\n",
       "      <td>288.274115</td>\n",
       "      <td>1.720000e-06</td>\n",
       "    </tr>\n",
       "    <tr>\n",
       "      <th>2634</th>\n",
       "      <td>0.288872</td>\n",
       "      <td>0.000000e+00</td>\n",
       "      <td>290.335277</td>\n",
       "      <td>11600000.0</td>\n",
       "      <td>288.646950</td>\n",
       "      <td>2.160000e-06</td>\n",
       "    </tr>\n",
       "    <tr>\n",
       "      <th>2635</th>\n",
       "      <td>0.283252</td>\n",
       "      <td>0.000000e+00</td>\n",
       "      <td>290.593332</td>\n",
       "      <td>11800000.0</td>\n",
       "      <td>288.638634</td>\n",
       "      <td>4.260000e-07</td>\n",
       "    </tr>\n",
       "  </tbody>\n",
       "</table>\n",
       "<p>2636 rows × 6 columns</p>\n",
       "</div>\n",
       "    <div class=\"colab-df-buttons\">\n",
       "\n",
       "  <div class=\"colab-df-container\">\n",
       "    <button class=\"colab-df-convert\" onclick=\"convertToInteractive('df-5c563b8c-e0b0-42f9-9cd6-d2cd4dabee2e')\"\n",
       "            title=\"Convert this dataframe to an interactive table.\"\n",
       "            style=\"display:none;\">\n",
       "\n",
       "  <svg xmlns=\"http://www.w3.org/2000/svg\" height=\"24px\" viewBox=\"0 -960 960 960\">\n",
       "    <path d=\"M120-120v-720h720v720H120Zm60-500h600v-160H180v160Zm220 220h160v-160H400v160Zm0 220h160v-160H400v160ZM180-400h160v-160H180v160Zm440 0h160v-160H620v160ZM180-180h160v-160H180v160Zm440 0h160v-160H620v160Z\"/>\n",
       "  </svg>\n",
       "    </button>\n",
       "\n",
       "  <style>\n",
       "    .colab-df-container {\n",
       "      display:flex;\n",
       "      gap: 12px;\n",
       "    }\n",
       "\n",
       "    .colab-df-convert {\n",
       "      background-color: #E8F0FE;\n",
       "      border: none;\n",
       "      border-radius: 50%;\n",
       "      cursor: pointer;\n",
       "      display: none;\n",
       "      fill: #1967D2;\n",
       "      height: 32px;\n",
       "      padding: 0 0 0 0;\n",
       "      width: 32px;\n",
       "    }\n",
       "\n",
       "    .colab-df-convert:hover {\n",
       "      background-color: #E2EBFA;\n",
       "      box-shadow: 0px 1px 2px rgba(60, 64, 67, 0.3), 0px 1px 3px 1px rgba(60, 64, 67, 0.15);\n",
       "      fill: #174EA6;\n",
       "    }\n",
       "\n",
       "    .colab-df-buttons div {\n",
       "      margin-bottom: 4px;\n",
       "    }\n",
       "\n",
       "    [theme=dark] .colab-df-convert {\n",
       "      background-color: #3B4455;\n",
       "      fill: #D2E3FC;\n",
       "    }\n",
       "\n",
       "    [theme=dark] .colab-df-convert:hover {\n",
       "      background-color: #434B5C;\n",
       "      box-shadow: 0px 1px 3px 1px rgba(0, 0, 0, 0.15);\n",
       "      filter: drop-shadow(0px 1px 2px rgba(0, 0, 0, 0.3));\n",
       "      fill: #FFFFFF;\n",
       "    }\n",
       "  </style>\n",
       "\n",
       "    <script>\n",
       "      const buttonEl =\n",
       "        document.querySelector('#df-5c563b8c-e0b0-42f9-9cd6-d2cd4dabee2e button.colab-df-convert');\n",
       "      buttonEl.style.display =\n",
       "        google.colab.kernel.accessAllowed ? 'block' : 'none';\n",
       "\n",
       "      async function convertToInteractive(key) {\n",
       "        const element = document.querySelector('#df-5c563b8c-e0b0-42f9-9cd6-d2cd4dabee2e');\n",
       "        const dataTable =\n",
       "          await google.colab.kernel.invokeFunction('convertToInteractive',\n",
       "                                                    [key], {});\n",
       "        if (!dataTable) return;\n",
       "\n",
       "        const docLinkHtml = 'Like what you see? Visit the ' +\n",
       "          '<a target=\"_blank\" href=https://colab.research.google.com/notebooks/data_table.ipynb>data table notebook</a>'\n",
       "          + ' to learn more about interactive tables.';\n",
       "        element.innerHTML = '';\n",
       "        dataTable['output_type'] = 'display_data';\n",
       "        await google.colab.output.renderOutput(dataTable, element);\n",
       "        const docLink = document.createElement('div');\n",
       "        docLink.innerHTML = docLinkHtml;\n",
       "        element.appendChild(docLink);\n",
       "      }\n",
       "    </script>\n",
       "  </div>\n",
       "\n",
       "\n",
       "<div id=\"df-f5cbdb15-490d-4f37-a5ec-37d9dd552e58\">\n",
       "  <button class=\"colab-df-quickchart\" onclick=\"quickchart('df-f5cbdb15-490d-4f37-a5ec-37d9dd552e58')\"\n",
       "            title=\"Suggest charts\"\n",
       "            style=\"display:none;\">\n",
       "\n",
       "<svg xmlns=\"http://www.w3.org/2000/svg\" height=\"24px\"viewBox=\"0 0 24 24\"\n",
       "     width=\"24px\">\n",
       "    <g>\n",
       "        <path d=\"M19 3H5c-1.1 0-2 .9-2 2v14c0 1.1.9 2 2 2h14c1.1 0 2-.9 2-2V5c0-1.1-.9-2-2-2zM9 17H7v-7h2v7zm4 0h-2V7h2v10zm4 0h-2v-4h2v4z\"/>\n",
       "    </g>\n",
       "</svg>\n",
       "  </button>\n",
       "\n",
       "<style>\n",
       "  .colab-df-quickchart {\n",
       "      --bg-color: #E8F0FE;\n",
       "      --fill-color: #1967D2;\n",
       "      --hover-bg-color: #E2EBFA;\n",
       "      --hover-fill-color: #174EA6;\n",
       "      --disabled-fill-color: #AAA;\n",
       "      --disabled-bg-color: #DDD;\n",
       "  }\n",
       "\n",
       "  [theme=dark] .colab-df-quickchart {\n",
       "      --bg-color: #3B4455;\n",
       "      --fill-color: #D2E3FC;\n",
       "      --hover-bg-color: #434B5C;\n",
       "      --hover-fill-color: #FFFFFF;\n",
       "      --disabled-bg-color: #3B4455;\n",
       "      --disabled-fill-color: #666;\n",
       "  }\n",
       "\n",
       "  .colab-df-quickchart {\n",
       "    background-color: var(--bg-color);\n",
       "    border: none;\n",
       "    border-radius: 50%;\n",
       "    cursor: pointer;\n",
       "    display: none;\n",
       "    fill: var(--fill-color);\n",
       "    height: 32px;\n",
       "    padding: 0;\n",
       "    width: 32px;\n",
       "  }\n",
       "\n",
       "  .colab-df-quickchart:hover {\n",
       "    background-color: var(--hover-bg-color);\n",
       "    box-shadow: 0 1px 2px rgba(60, 64, 67, 0.3), 0 1px 3px 1px rgba(60, 64, 67, 0.15);\n",
       "    fill: var(--button-hover-fill-color);\n",
       "  }\n",
       "\n",
       "  .colab-df-quickchart-complete:disabled,\n",
       "  .colab-df-quickchart-complete:disabled:hover {\n",
       "    background-color: var(--disabled-bg-color);\n",
       "    fill: var(--disabled-fill-color);\n",
       "    box-shadow: none;\n",
       "  }\n",
       "\n",
       "  .colab-df-spinner {\n",
       "    border: 2px solid var(--fill-color);\n",
       "    border-color: transparent;\n",
       "    border-bottom-color: var(--fill-color);\n",
       "    animation:\n",
       "      spin 1s steps(1) infinite;\n",
       "  }\n",
       "\n",
       "  @keyframes spin {\n",
       "    0% {\n",
       "      border-color: transparent;\n",
       "      border-bottom-color: var(--fill-color);\n",
       "      border-left-color: var(--fill-color);\n",
       "    }\n",
       "    20% {\n",
       "      border-color: transparent;\n",
       "      border-left-color: var(--fill-color);\n",
       "      border-top-color: var(--fill-color);\n",
       "    }\n",
       "    30% {\n",
       "      border-color: transparent;\n",
       "      border-left-color: var(--fill-color);\n",
       "      border-top-color: var(--fill-color);\n",
       "      border-right-color: var(--fill-color);\n",
       "    }\n",
       "    40% {\n",
       "      border-color: transparent;\n",
       "      border-right-color: var(--fill-color);\n",
       "      border-top-color: var(--fill-color);\n",
       "    }\n",
       "    60% {\n",
       "      border-color: transparent;\n",
       "      border-right-color: var(--fill-color);\n",
       "    }\n",
       "    80% {\n",
       "      border-color: transparent;\n",
       "      border-right-color: var(--fill-color);\n",
       "      border-bottom-color: var(--fill-color);\n",
       "    }\n",
       "    90% {\n",
       "      border-color: transparent;\n",
       "      border-bottom-color: var(--fill-color);\n",
       "    }\n",
       "  }\n",
       "</style>\n",
       "\n",
       "  <script>\n",
       "    async function quickchart(key) {\n",
       "      const quickchartButtonEl =\n",
       "        document.querySelector('#' + key + ' button');\n",
       "      quickchartButtonEl.disabled = true;  // To prevent multiple clicks.\n",
       "      quickchartButtonEl.classList.add('colab-df-spinner');\n",
       "      try {\n",
       "        const charts = await google.colab.kernel.invokeFunction(\n",
       "            'suggestCharts', [key], {});\n",
       "      } catch (error) {\n",
       "        console.error('Error during call to suggestCharts:', error);\n",
       "      }\n",
       "      quickchartButtonEl.classList.remove('colab-df-spinner');\n",
       "      quickchartButtonEl.classList.add('colab-df-quickchart-complete');\n",
       "    }\n",
       "    (() => {\n",
       "      let quickchartButtonEl =\n",
       "        document.querySelector('#df-f5cbdb15-490d-4f37-a5ec-37d9dd552e58 button');\n",
       "      quickchartButtonEl.style.display =\n",
       "        google.colab.kernel.accessAllowed ? 'block' : 'none';\n",
       "    })();\n",
       "  </script>\n",
       "</div>\n",
       "    </div>\n",
       "  </div>\n"
      ],
      "text/plain": [
       "          ndvi  evaporation_from_vegetation_transpiration_sum  \\\n",
       "0     0.294454                                   0.000000e+00   \n",
       "1     0.294374                                   0.000000e+00   \n",
       "2     0.294293                                   0.000000e+00   \n",
       "3     0.294212                                   0.000000e+00   \n",
       "4     0.294132                                   0.000000e+00   \n",
       "...        ...                                            ...   \n",
       "2631  0.305235                                   0.000000e+00   \n",
       "2632  0.299864                                   9.310000e-10   \n",
       "2633  0.294492                                   0.000000e+00   \n",
       "2634  0.288872                                   0.000000e+00   \n",
       "2635  0.283252                                   0.000000e+00   \n",
       "\n",
       "      soil_temperature_level_1  surface_net_solar_radiation_sum  \\\n",
       "0                   301.237361                       17300000.0   \n",
       "1                   300.670247                       17400000.0   \n",
       "2                   301.611605                       16900000.0   \n",
       "3                   302.113707                       16100000.0   \n",
       "4                   302.338162                       16300000.0   \n",
       "...                        ...                              ...   \n",
       "2631                290.069274                       12200000.0   \n",
       "2632                289.658445                       11900000.0   \n",
       "2633                289.583420                       11800000.0   \n",
       "2634                290.335277                       11600000.0   \n",
       "2635                290.593332                       11800000.0   \n",
       "\n",
       "      temperature_2m  total_precipitation_sum  \n",
       "0         299.785082             0.000000e+00  \n",
       "1         299.757111             1.280000e-06  \n",
       "2         300.595834             0.000000e+00  \n",
       "3         300.924228             1.270000e-06  \n",
       "4         301.113778             8.670000e-07  \n",
       "...              ...                      ...  \n",
       "2631      287.988349             0.000000e+00  \n",
       "2632      287.359432             8.550000e-07  \n",
       "2633      288.274115             1.720000e-06  \n",
       "2634      288.646950             2.160000e-06  \n",
       "2635      288.638634             4.260000e-07  \n",
       "\n",
       "[2636 rows x 6 columns]"
      ]
     },
     "execution_count": 34,
     "metadata": {},
     "output_type": "execute_result"
    }
   ],
   "source": [
    "output_df = pd.read_csv(\"final-checkpoint.csv\")\n",
    "print(type(output_df))\n",
    "output_df.shape\n",
    "# print(output_df)\n",
    "\n",
    "duplicate = output_df[output_df.duplicated()]\n",
    "# print(duplicate)\n",
    "output_df = output_df.drop_duplicates()\n",
    "output_df"
   ]
  },
  {
   "cell_type": "code",
   "execution_count": null,
   "id": "Jhpy7g37FDsX",
   "metadata": {
    "id": "Jhpy7g37FDsX"
   },
   "outputs": [],
   "source": [
    "# values = output_df.values\n",
    "\n",
    "# final_df = series_to_supervised(values, 14, 1)\n",
    "\n",
    "# final_df.head(15)"
   ]
  },
  {
   "cell_type": "code",
   "execution_count": null,
   "id": "0915gZZyVoJt",
   "metadata": {
    "colab": {
     "base_uri": "https://localhost:8080/",
     "height": 1000
    },
    "id": "0915gZZyVoJt",
    "outputId": "024f96cb-2385-4890-8f82-a092d3002d2f"
   },
   "outputs": [
    {
     "data": {
      "image/png": "[encoded data removed]",
      "text/plain": [
       "<Figure size 1200x1000 with 2 Axes>"
      ]
     },
     "metadata": {},
     "output_type": "display_data"
    }
   ],
   "source": [
    "import pandas as pd\n",
    "import seaborn as sns\n",
    "import matplotlib.pyplot as plt\n",
    "\n",
    "# Load the CSV file into a DataFrame\n",
    "csv_file_path = \"final-checkpoint.csv\"  # Replace with the actual path to your CSV file\n",
    "df = pd.read_csv(csv_file_path)\n",
    "\n",
    "# Calculate the correlation matrix for all features\n",
    "correlation_matrix = df.corr()\n",
    "\n",
    "# Create a heatmap using seaborn\n",
    "plt.figure(figsize=(12, 10))\n",
    "sns.heatmap(correlation_matrix, annot=True, cmap=\"coolwarm\", fmt=\".2f\", linewidths=.5)\n",
    "plt.title('Correlation Heatmap')\n",
    "plt.show()\n"
   ]
  },
  {
   "cell_type": "markdown",
   "id": "eMo5LPmviPQn",
   "metadata": {
    "id": "eMo5LPmviPQn"
   },
   "source": [
    "##converting to supervised dataset"
   ]
  },
  {
   "cell_type": "code",
   "execution_count": null,
   "id": "Hhs1XuhMiOlV",
   "metadata": {
    "id": "Hhs1XuhMiOlV"
   },
   "outputs": [],
   "source": [
    "def series_to_supervised(data, n_in=1, n_out=1, dropnan=True):\n",
    "\n",
    "    n_vars = 1 if type(data) is list else data.shape[1]\n",
    "    df = pd.DataFrame(data)\n",
    "    cols, names = list(), list()\n",
    "\n",
    "    for i in range(n_in, 0, -1):\n",
    "        cols.append(df.shift(i))\n",
    "        names += [('var%d(t-%d)' % (j+1, i)) for j in range(n_vars)]\n",
    "\n",
    "    for i in range(0, n_out):\n",
    "        cols.append(df.shift(-i))\n",
    "        if i == 0:\n",
    "            names += [('var%d(t)' % (j+1)) for j in range(n_vars)]\n",
    "        else:\n",
    "            names += [('var%d(t+%d)' % (j+1, i)) for j in range(n_vars)]\n",
    "\n",
    "    agg = pd.concat(cols, axis=1)\n",
    "    agg.columns = names\n",
    "\n",
    "    if dropnan:\n",
    "        agg.dropna(inplace=True)\n",
    "    return agg"
   ]
  },
  {
   "cell_type": "code",
   "execution_count": null,
   "id": "F8iW3E2nigyW",
   "metadata": {
    "colab": {
     "base_uri": "https://localhost:8080/",
     "height": 441
    },
    "id": "F8iW3E2nigyW",
    "outputId": "c5d6695a-4616-44f2-ccd4-4cebe9323ed6"
   },
   "outputs": [
    {
     "name": "stdout",
     "output_type": "stream",
     "text": [
      "<class 'pandas.core.frame.DataFrame'>\n"
     ]
    },
    {
     "data": {
      "text/html": [
       "\n",
       "  <div id=\"df-e7be974e-4c8c-4325-a1d2-869891ec7397\" class=\"colab-df-container\">\n",
       "    <div>\n",
       "<style scoped>\n",
       "    .dataframe tbody tr th:only-of-type {\n",
       "        vertical-align: middle;\n",
       "    }\n",
       "\n",
       "    .dataframe tbody tr th {\n",
       "        vertical-align: top;\n",
       "    }\n",
       "\n",
       "    .dataframe thead th {\n",
       "        text-align: right;\n",
       "    }\n",
       "</style>\n",
       "<table border=\"1\" class=\"dataframe\">\n",
       "  <thead>\n",
       "    <tr style=\"text-align: right;\">\n",
       "      <th></th>\n",
       "      <th>ndvi</th>\n",
       "      <th>evaporation_from_vegetation_transpiration_sum</th>\n",
       "      <th>soil_temperature_level_1</th>\n",
       "      <th>surface_net_solar_radiation_sum</th>\n",
       "      <th>temperature_2m</th>\n",
       "      <th>total_precipitation_sum</th>\n",
       "    </tr>\n",
       "  </thead>\n",
       "  <tbody>\n",
       "    <tr>\n",
       "      <th>0</th>\n",
       "      <td>0.294454</td>\n",
       "      <td>0.000000e+00</td>\n",
       "      <td>301.237361</td>\n",
       "      <td>17300000.0</td>\n",
       "      <td>299.785082</td>\n",
       "      <td>0.000000e+00</td>\n",
       "    </tr>\n",
       "    <tr>\n",
       "      <th>1</th>\n",
       "      <td>0.294374</td>\n",
       "      <td>0.000000e+00</td>\n",
       "      <td>300.670247</td>\n",
       "      <td>17400000.0</td>\n",
       "      <td>299.757111</td>\n",
       "      <td>1.280000e-06</td>\n",
       "    </tr>\n",
       "    <tr>\n",
       "      <th>2</th>\n",
       "      <td>0.294293</td>\n",
       "      <td>0.000000e+00</td>\n",
       "      <td>301.611605</td>\n",
       "      <td>16900000.0</td>\n",
       "      <td>300.595834</td>\n",
       "      <td>0.000000e+00</td>\n",
       "    </tr>\n",
       "    <tr>\n",
       "      <th>3</th>\n",
       "      <td>0.294212</td>\n",
       "      <td>0.000000e+00</td>\n",
       "      <td>302.113707</td>\n",
       "      <td>16100000.0</td>\n",
       "      <td>300.924228</td>\n",
       "      <td>1.270000e-06</td>\n",
       "    </tr>\n",
       "    <tr>\n",
       "      <th>4</th>\n",
       "      <td>0.294132</td>\n",
       "      <td>0.000000e+00</td>\n",
       "      <td>302.338162</td>\n",
       "      <td>16300000.0</td>\n",
       "      <td>301.113778</td>\n",
       "      <td>8.670000e-07</td>\n",
       "    </tr>\n",
       "    <tr>\n",
       "      <th>...</th>\n",
       "      <td>...</td>\n",
       "      <td>...</td>\n",
       "      <td>...</td>\n",
       "      <td>...</td>\n",
       "      <td>...</td>\n",
       "      <td>...</td>\n",
       "    </tr>\n",
       "    <tr>\n",
       "      <th>2631</th>\n",
       "      <td>0.305235</td>\n",
       "      <td>0.000000e+00</td>\n",
       "      <td>290.069274</td>\n",
       "      <td>12200000.0</td>\n",
       "      <td>287.988349</td>\n",
       "      <td>0.000000e+00</td>\n",
       "    </tr>\n",
       "    <tr>\n",
       "      <th>2632</th>\n",
       "      <td>0.299864</td>\n",
       "      <td>9.310000e-10</td>\n",
       "      <td>289.658445</td>\n",
       "      <td>11900000.0</td>\n",
       "      <td>287.359432</td>\n",
       "      <td>8.550000e-07</td>\n",
       "    </tr>\n",
       "    <tr>\n",
       "      <th>2633</th>\n",
       "      <td>0.294492</td>\n",
       "      <td>0.000000e+00</td>\n",
       "      <td>289.583420</td>\n",
       "      <td>11800000.0</td>\n",
       "      <td>288.274115</td>\n",
       "      <td>1.720000e-06</td>\n",
       "    </tr>\n",
       "    <tr>\n",
       "      <th>2634</th>\n",
       "      <td>0.288872</td>\n",
       "      <td>0.000000e+00</td>\n",
       "      <td>290.335277</td>\n",
       "      <td>11600000.0</td>\n",
       "      <td>288.646950</td>\n",
       "      <td>2.160000e-06</td>\n",
       "    </tr>\n",
       "    <tr>\n",
       "      <th>2635</th>\n",
       "      <td>0.283252</td>\n",
       "      <td>0.000000e+00</td>\n",
       "      <td>290.593332</td>\n",
       "      <td>11800000.0</td>\n",
       "      <td>288.638634</td>\n",
       "      <td>4.260000e-07</td>\n",
       "    </tr>\n",
       "  </tbody>\n",
       "</table>\n",
       "<p>2636 rows × 6 columns</p>\n",
       "</div>\n",
       "    <div class=\"colab-df-buttons\">\n",
       "\n",
       "  <div class=\"colab-df-container\">\n",
       "    <button class=\"colab-df-convert\" onclick=\"convertToInteractive('df-e7be974e-4c8c-4325-a1d2-869891ec7397')\"\n",
       "            title=\"Convert this dataframe to an interactive table.\"\n",
       "            style=\"display:none;\">\n",
       "\n",
       "  <svg xmlns=\"http://www.w3.org/2000/svg\" height=\"24px\" viewBox=\"0 -960 960 960\">\n",
       "    <path d=\"M120-120v-720h720v720H120Zm60-500h600v-160H180v160Zm220 220h160v-160H400v160Zm0 220h160v-160H400v160ZM180-400h160v-160H180v160Zm440 0h160v-160H620v160ZM180-180h160v-160H180v160Zm440 0h160v-160H620v160Z\"/>\n",
       "  </svg>\n",
       "    </button>\n",
       "\n",
       "  <style>\n",
       "    .colab-df-container {\n",
       "      display:flex;\n",
       "      gap: 12px;\n",
       "    }\n",
       "\n",
       "    .colab-df-convert {\n",
       "      background-color: #E8F0FE;\n",
       "      border: none;\n",
       "      border-radius: 50%;\n",
       "      cursor: pointer;\n",
       "      display: none;\n",
       "      fill: #1967D2;\n",
       "      height: 32px;\n",
       "      padding: 0 0 0 0;\n",
       "      width: 32px;\n",
       "    }\n",
       "\n",
       "    .colab-df-convert:hover {\n",
       "      background-color: #E2EBFA;\n",
       "      box-shadow: 0px 1px 2px rgba(60, 64, 67, 0.3), 0px 1px 3px 1px rgba(60, 64, 67, 0.15);\n",
       "      fill: #174EA6;\n",
       "    }\n",
       "\n",
       "    .colab-df-buttons div {\n",
       "      margin-bottom: 4px;\n",
       "    }\n",
       "\n",
       "    [theme=dark] .colab-df-convert {\n",
       "      background-color: #3B4455;\n",
       "      fill: #D2E3FC;\n",
       "    }\n",
       "\n",
       "    [theme=dark] .colab-df-convert:hover {\n",
       "      background-color: #434B5C;\n",
       "      box-shadow: 0px 1px 3px 1px rgba(0, 0, 0, 0.15);\n",
       "      filter: drop-shadow(0px 1px 2px rgba(0, 0, 0, 0.3));\n",
       "      fill: #FFFFFF;\n",
       "    }\n",
       "  </style>\n",
       "\n",
       "    <script>\n",
       "      const buttonEl =\n",
       "        document.querySelector('#df-e7be974e-4c8c-4325-a1d2-869891ec7397 button.colab-df-convert');\n",
       "      buttonEl.style.display =\n",
       "        google.colab.kernel.accessAllowed ? 'block' : 'none';\n",
       "\n",
       "      async function convertToInteractive(key) {\n",
       "        const element = document.querySelector('#df-e7be974e-4c8c-4325-a1d2-869891ec7397');\n",
       "        const dataTable =\n",
       "          await google.colab.kernel.invokeFunction('convertToInteractive',\n",
       "                                                    [key], {});\n",
       "        if (!dataTable) return;\n",
       "\n",
       "        const docLinkHtml = 'Like what you see? Visit the ' +\n",
       "          '<a target=\"_blank\" href=https://colab.research.google.com/notebooks/data_table.ipynb>data table notebook</a>'\n",
       "          + ' to learn more about interactive tables.';\n",
       "        element.innerHTML = '';\n",
       "        dataTable['output_type'] = 'display_data';\n",
       "        await google.colab.output.renderOutput(dataTable, element);\n",
       "        const docLink = document.createElement('div');\n",
       "        docLink.innerHTML = docLinkHtml;\n",
       "        element.appendChild(docLink);\n",
       "      }\n",
       "    </script>\n",
       "  </div>\n",
       "\n",
       "\n",
       "<div id=\"df-aa04a5f1-cd3c-426e-b240-26b28a654f14\">\n",
       "  <button class=\"colab-df-quickchart\" onclick=\"quickchart('df-aa04a5f1-cd3c-426e-b240-26b28a654f14')\"\n",
       "            title=\"Suggest charts\"\n",
       "            style=\"display:none;\">\n",
       "\n",
       "<svg xmlns=\"http://www.w3.org/2000/svg\" height=\"24px\"viewBox=\"0 0 24 24\"\n",
       "     width=\"24px\">\n",
       "    <g>\n",
       "        <path d=\"M19 3H5c-1.1 0-2 .9-2 2v14c0 1.1.9 2 2 2h14c1.1 0 2-.9 2-2V5c0-1.1-.9-2-2-2zM9 17H7v-7h2v7zm4 0h-2V7h2v10zm4 0h-2v-4h2v4z\"/>\n",
       "    </g>\n",
       "</svg>\n",
       "  </button>\n",
       "\n",
       "<style>\n",
       "  .colab-df-quickchart {\n",
       "      --bg-color: #E8F0FE;\n",
       "      --fill-color: #1967D2;\n",
       "      --hover-bg-color: #E2EBFA;\n",
       "      --hover-fill-color: #174EA6;\n",
       "      --disabled-fill-color: #AAA;\n",
       "      --disabled-bg-color: #DDD;\n",
       "  }\n",
       "\n",
       "  [theme=dark] .colab-df-quickchart {\n",
       "      --bg-color: #3B4455;\n",
       "      --fill-color: #D2E3FC;\n",
       "      --hover-bg-color: #434B5C;\n",
       "      --hover-fill-color: #FFFFFF;\n",
       "      --disabled-bg-color: #3B4455;\n",
       "      --disabled-fill-color: #666;\n",
       "  }\n",
       "\n",
       "  .colab-df-quickchart {\n",
       "    background-color: var(--bg-color);\n",
       "    border: none;\n",
       "    border-radius: 50%;\n",
       "    cursor: pointer;\n",
       "    display: none;\n",
       "    fill: var(--fill-color);\n",
       "    height: 32px;\n",
       "    padding: 0;\n",
       "    width: 32px;\n",
       "  }\n",
       "\n",
       "  .colab-df-quickchart:hover {\n",
       "    background-color: var(--hover-bg-color);\n",
       "    box-shadow: 0 1px 2px rgba(60, 64, 67, 0.3), 0 1px 3px 1px rgba(60, 64, 67, 0.15);\n",
       "    fill: var(--button-hover-fill-color);\n",
       "  }\n",
       "\n",
       "  .colab-df-quickchart-complete:disabled,\n",
       "  .colab-df-quickchart-complete:disabled:hover {\n",
       "    background-color: var(--disabled-bg-color);\n",
       "    fill: var(--disabled-fill-color);\n",
       "    box-shadow: none;\n",
       "  }\n",
       "\n",
       "  .colab-df-spinner {\n",
       "    border: 2px solid var(--fill-color);\n",
       "    border-color: transparent;\n",
       "    border-bottom-color: var(--fill-color);\n",
       "    animation:\n",
       "      spin 1s steps(1) infinite;\n",
       "  }\n",
       "\n",
       "  @keyframes spin {\n",
       "    0% {\n",
       "      border-color: transparent;\n",
       "      border-bottom-color: var(--fill-color);\n",
       "      border-left-color: var(--fill-color);\n",
       "    }\n",
       "    20% {\n",
       "      border-color: transparent;\n",
       "      border-left-color: var(--fill-color);\n",
       "      border-top-color: var(--fill-color);\n",
       "    }\n",
       "    30% {\n",
       "      border-color: transparent;\n",
       "      border-left-color: var(--fill-color);\n",
       "      border-top-color: var(--fill-color);\n",
       "      border-right-color: var(--fill-color);\n",
       "    }\n",
       "    40% {\n",
       "      border-color: transparent;\n",
       "      border-right-color: var(--fill-color);\n",
       "      border-top-color: var(--fill-color);\n",
       "    }\n",
       "    60% {\n",
       "      border-color: transparent;\n",
       "      border-right-color: var(--fill-color);\n",
       "    }\n",
       "    80% {\n",
       "      border-color: transparent;\n",
       "      border-right-color: var(--fill-color);\n",
       "      border-bottom-color: var(--fill-color);\n",
       "    }\n",
       "    90% {\n",
       "      border-color: transparent;\n",
       "      border-bottom-color: var(--fill-color);\n",
       "    }\n",
       "  }\n",
       "</style>\n",
       "\n",
       "  <script>\n",
       "    async function quickchart(key) {\n",
       "      const quickchartButtonEl =\n",
       "        document.querySelector('#' + key + ' button');\n",
       "      quickchartButtonEl.disabled = true;  // To prevent multiple clicks.\n",
       "      quickchartButtonEl.classList.add('colab-df-spinner');\n",
       "      try {\n",
       "        const charts = await google.colab.kernel.invokeFunction(\n",
       "            'suggestCharts', [key], {});\n",
       "      } catch (error) {\n",
       "        console.error('Error during call to suggestCharts:', error);\n",
       "      }\n",
       "      quickchartButtonEl.classList.remove('colab-df-spinner');\n",
       "      quickchartButtonEl.classList.add('colab-df-quickchart-complete');\n",
       "    }\n",
       "    (() => {\n",
       "      let quickchartButtonEl =\n",
       "        document.querySelector('#df-aa04a5f1-cd3c-426e-b240-26b28a654f14 button');\n",
       "      quickchartButtonEl.style.display =\n",
       "        google.colab.kernel.accessAllowed ? 'block' : 'none';\n",
       "    })();\n",
       "  </script>\n",
       "</div>\n",
       "    </div>\n",
       "  </div>\n"
      ],
      "text/plain": [
       "          ndvi  evaporation_from_vegetation_transpiration_sum  \\\n",
       "0     0.294454                                   0.000000e+00   \n",
       "1     0.294374                                   0.000000e+00   \n",
       "2     0.294293                                   0.000000e+00   \n",
       "3     0.294212                                   0.000000e+00   \n",
       "4     0.294132                                   0.000000e+00   \n",
       "...        ...                                            ...   \n",
       "2631  0.305235                                   0.000000e+00   \n",
       "2632  0.299864                                   9.310000e-10   \n",
       "2633  0.294492                                   0.000000e+00   \n",
       "2634  0.288872                                   0.000000e+00   \n",
       "2635  0.283252                                   0.000000e+00   \n",
       "\n",
       "      soil_temperature_level_1  surface_net_solar_radiation_sum  \\\n",
       "0                   301.237361                       17300000.0   \n",
       "1                   300.670247                       17400000.0   \n",
       "2                   301.611605                       16900000.0   \n",
       "3                   302.113707                       16100000.0   \n",
       "4                   302.338162                       16300000.0   \n",
       "...                        ...                              ...   \n",
       "2631                290.069274                       12200000.0   \n",
       "2632                289.658445                       11900000.0   \n",
       "2633                289.583420                       11800000.0   \n",
       "2634                290.335277                       11600000.0   \n",
       "2635                290.593332                       11800000.0   \n",
       "\n",
       "      temperature_2m  total_precipitation_sum  \n",
       "0         299.785082             0.000000e+00  \n",
       "1         299.757111             1.280000e-06  \n",
       "2         300.595834             0.000000e+00  \n",
       "3         300.924228             1.270000e-06  \n",
       "4         301.113778             8.670000e-07  \n",
       "...              ...                      ...  \n",
       "2631      287.988349             0.000000e+00  \n",
       "2632      287.359432             8.550000e-07  \n",
       "2633      288.274115             1.720000e-06  \n",
       "2634      288.646950             2.160000e-06  \n",
       "2635      288.638634             4.260000e-07  \n",
       "\n",
       "[2636 rows x 6 columns]"
      ]
     },
     "execution_count": 85,
     "metadata": {},
     "output_type": "execute_result"
    }
   ],
   "source": [
    "lstm_df = pd.read_csv(\"final.csv\")\n",
    "print(type(output_df))\n",
    "output_df.shape\n",
    "\n",
    "\n",
    "duplicate = output_df[output_df.duplicated()]\n",
    "# print(duplicate)\n",
    "output_df = output_df.drop_duplicates()\n",
    "output_df"
   ]
  },
  {
   "cell_type": "code",
   "execution_count": null,
   "id": "8KJkN5AgijVC",
   "metadata": {
    "colab": {
     "base_uri": "https://localhost:8080/",
     "height": 586
    },
    "id": "8KJkN5AgijVC",
    "outputId": "7a575a42-718d-4037-821b-5d9f9217e921"
   },
   "outputs": [
    {
     "data": {
      "text/html": [
       "\n",
       "  <div id=\"df-c8b004b0-30c1-4663-ab60-0a1dfdd3aa65\" class=\"colab-df-container\">\n",
       "    <div>\n",
       "<style scoped>\n",
       "    .dataframe tbody tr th:only-of-type {\n",
       "        vertical-align: middle;\n",
       "    }\n",
       "\n",
       "    .dataframe tbody tr th {\n",
       "        vertical-align: top;\n",
       "    }\n",
       "\n",
       "    .dataframe thead th {\n",
       "        text-align: right;\n",
       "    }\n",
       "</style>\n",
       "<table border=\"1\" class=\"dataframe\">\n",
       "  <thead>\n",
       "    <tr style=\"text-align: right;\">\n",
       "      <th></th>\n",
       "      <th>var1(t-14)</th>\n",
       "      <th>var2(t-14)</th>\n",
       "      <th>var3(t-14)</th>\n",
       "      <th>var4(t-14)</th>\n",
       "      <th>var5(t-14)</th>\n",
       "      <th>var6(t-14)</th>\n",
       "      <th>var1(t-13)</th>\n",
       "      <th>var2(t-13)</th>\n",
       "      <th>var3(t-13)</th>\n",
       "      <th>var4(t-13)</th>\n",
       "      <th>...</th>\n",
       "      <th>var3(t-1)</th>\n",
       "      <th>var4(t-1)</th>\n",
       "      <th>var5(t-1)</th>\n",
       "      <th>var6(t-1)</th>\n",
       "      <th>var1(t)</th>\n",
       "      <th>var2(t)</th>\n",
       "      <th>var3(t)</th>\n",
       "      <th>var4(t)</th>\n",
       "      <th>var5(t)</th>\n",
       "      <th>var6(t)</th>\n",
       "    </tr>\n",
       "  </thead>\n",
       "  <tbody>\n",
       "    <tr>\n",
       "      <th>14</th>\n",
       "      <td>0.0</td>\n",
       "      <td>301.237361</td>\n",
       "      <td>17300000.0</td>\n",
       "      <td>299.785082</td>\n",
       "      <td>0.000000e+00</td>\n",
       "      <td>0.294454</td>\n",
       "      <td>0.0</td>\n",
       "      <td>300.670247</td>\n",
       "      <td>17400000.0</td>\n",
       "      <td>299.757111</td>\n",
       "      <td>...</td>\n",
       "      <td>1.350000e+07</td>\n",
       "      <td>298.301285</td>\n",
       "      <td>2.557506e-03</td>\n",
       "      <td>0.293406</td>\n",
       "      <td>0.000000e+00</td>\n",
       "      <td>300.686545</td>\n",
       "      <td>1.390000e+07</td>\n",
       "      <td>298.772994</td>\n",
       "      <td>3.830000e-04</td>\n",
       "      <td>0.293325</td>\n",
       "    </tr>\n",
       "    <tr>\n",
       "      <th>15</th>\n",
       "      <td>0.0</td>\n",
       "      <td>300.670247</td>\n",
       "      <td>17400000.0</td>\n",
       "      <td>299.757111</td>\n",
       "      <td>1.280000e-06</td>\n",
       "      <td>0.294374</td>\n",
       "      <td>0.0</td>\n",
       "      <td>301.611605</td>\n",
       "      <td>16900000.0</td>\n",
       "      <td>300.595834</td>\n",
       "      <td>...</td>\n",
       "      <td>1.390000e+07</td>\n",
       "      <td>298.772994</td>\n",
       "      <td>3.830000e-04</td>\n",
       "      <td>0.293325</td>\n",
       "      <td>0.000000e+00</td>\n",
       "      <td>300.895984</td>\n",
       "      <td>1.430000e+07</td>\n",
       "      <td>299.103853</td>\n",
       "      <td>1.250000e-04</td>\n",
       "      <td>0.293245</td>\n",
       "    </tr>\n",
       "    <tr>\n",
       "      <th>16</th>\n",
       "      <td>0.0</td>\n",
       "      <td>301.611605</td>\n",
       "      <td>16900000.0</td>\n",
       "      <td>300.595834</td>\n",
       "      <td>0.000000e+00</td>\n",
       "      <td>0.294293</td>\n",
       "      <td>0.0</td>\n",
       "      <td>302.113707</td>\n",
       "      <td>16100000.0</td>\n",
       "      <td>300.924228</td>\n",
       "      <td>...</td>\n",
       "      <td>1.430000e+07</td>\n",
       "      <td>299.103853</td>\n",
       "      <td>1.250000e-04</td>\n",
       "      <td>0.293245</td>\n",
       "      <td>9.310000e-10</td>\n",
       "      <td>301.070403</td>\n",
       "      <td>1.480000e+07</td>\n",
       "      <td>299.342286</td>\n",
       "      <td>9.580000e-06</td>\n",
       "      <td>0.293164</td>\n",
       "    </tr>\n",
       "    <tr>\n",
       "      <th>17</th>\n",
       "      <td>0.0</td>\n",
       "      <td>302.113707</td>\n",
       "      <td>16100000.0</td>\n",
       "      <td>300.924228</td>\n",
       "      <td>1.270000e-06</td>\n",
       "      <td>0.294212</td>\n",
       "      <td>0.0</td>\n",
       "      <td>302.338162</td>\n",
       "      <td>16300000.0</td>\n",
       "      <td>301.113778</td>\n",
       "      <td>...</td>\n",
       "      <td>1.480000e+07</td>\n",
       "      <td>299.342286</td>\n",
       "      <td>9.580000e-06</td>\n",
       "      <td>0.293164</td>\n",
       "      <td>0.000000e+00</td>\n",
       "      <td>301.339098</td>\n",
       "      <td>1.500000e+07</td>\n",
       "      <td>300.003612</td>\n",
       "      <td>7.080000e-08</td>\n",
       "      <td>0.293083</td>\n",
       "    </tr>\n",
       "    <tr>\n",
       "      <th>18</th>\n",
       "      <td>0.0</td>\n",
       "      <td>302.338162</td>\n",
       "      <td>16300000.0</td>\n",
       "      <td>301.113778</td>\n",
       "      <td>8.670000e-07</td>\n",
       "      <td>0.294132</td>\n",
       "      <td>0.0</td>\n",
       "      <td>302.180309</td>\n",
       "      <td>16700000.0</td>\n",
       "      <td>300.671857</td>\n",
       "      <td>...</td>\n",
       "      <td>1.500000e+07</td>\n",
       "      <td>300.003612</td>\n",
       "      <td>7.080000e-08</td>\n",
       "      <td>0.293083</td>\n",
       "      <td>0.000000e+00</td>\n",
       "      <td>301.123823</td>\n",
       "      <td>1.460000e+07</td>\n",
       "      <td>299.757253</td>\n",
       "      <td>3.610000e-04</td>\n",
       "      <td>0.293003</td>\n",
       "    </tr>\n",
       "    <tr>\n",
       "      <th>19</th>\n",
       "      <td>0.0</td>\n",
       "      <td>302.180309</td>\n",
       "      <td>16700000.0</td>\n",
       "      <td>300.671857</td>\n",
       "      <td>4.350000e-07</td>\n",
       "      <td>0.294051</td>\n",
       "      <td>0.0</td>\n",
       "      <td>302.090804</td>\n",
       "      <td>16400000.0</td>\n",
       "      <td>300.728049</td>\n",
       "      <td>...</td>\n",
       "      <td>1.460000e+07</td>\n",
       "      <td>299.757253</td>\n",
       "      <td>3.610000e-04</td>\n",
       "      <td>0.293003</td>\n",
       "      <td>0.000000e+00</td>\n",
       "      <td>300.658583</td>\n",
       "      <td>1.520000e+07</td>\n",
       "      <td>299.174325</td>\n",
       "      <td>8.520000e-07</td>\n",
       "      <td>0.292922</td>\n",
       "    </tr>\n",
       "    <tr>\n",
       "      <th>20</th>\n",
       "      <td>0.0</td>\n",
       "      <td>302.090804</td>\n",
       "      <td>16400000.0</td>\n",
       "      <td>300.728049</td>\n",
       "      <td>4.260000e-07</td>\n",
       "      <td>0.293970</td>\n",
       "      <td>0.0</td>\n",
       "      <td>301.803869</td>\n",
       "      <td>16500000.0</td>\n",
       "      <td>300.817808</td>\n",
       "      <td>...</td>\n",
       "      <td>1.520000e+07</td>\n",
       "      <td>299.174325</td>\n",
       "      <td>8.520000e-07</td>\n",
       "      <td>0.292922</td>\n",
       "      <td>0.000000e+00</td>\n",
       "      <td>299.533728</td>\n",
       "      <td>1.580000e+07</td>\n",
       "      <td>297.837704</td>\n",
       "      <td>4.350000e-07</td>\n",
       "      <td>0.292841</td>\n",
       "    </tr>\n",
       "    <tr>\n",
       "      <th>21</th>\n",
       "      <td>0.0</td>\n",
       "      <td>301.803869</td>\n",
       "      <td>16500000.0</td>\n",
       "      <td>300.817808</td>\n",
       "      <td>4.260000e-07</td>\n",
       "      <td>0.293890</td>\n",
       "      <td>0.0</td>\n",
       "      <td>302.119253</td>\n",
       "      <td>16300000.0</td>\n",
       "      <td>300.873609</td>\n",
       "      <td>...</td>\n",
       "      <td>1.580000e+07</td>\n",
       "      <td>297.837704</td>\n",
       "      <td>4.350000e-07</td>\n",
       "      <td>0.292841</td>\n",
       "      <td>0.000000e+00</td>\n",
       "      <td>298.932919</td>\n",
       "      <td>1.570000e+07</td>\n",
       "      <td>297.118923</td>\n",
       "      <td>0.000000e+00</td>\n",
       "      <td>0.292761</td>\n",
       "    </tr>\n",
       "    <tr>\n",
       "      <th>22</th>\n",
       "      <td>0.0</td>\n",
       "      <td>302.119253</td>\n",
       "      <td>16300000.0</td>\n",
       "      <td>300.873609</td>\n",
       "      <td>8.520000e-07</td>\n",
       "      <td>0.293809</td>\n",
       "      <td>0.0</td>\n",
       "      <td>302.584010</td>\n",
       "      <td>15600000.0</td>\n",
       "      <td>301.287664</td>\n",
       "      <td>...</td>\n",
       "      <td>1.570000e+07</td>\n",
       "      <td>297.118923</td>\n",
       "      <td>0.000000e+00</td>\n",
       "      <td>0.292761</td>\n",
       "      <td>0.000000e+00</td>\n",
       "      <td>298.863506</td>\n",
       "      <td>1.510000e+07</td>\n",
       "      <td>297.142524</td>\n",
       "      <td>2.570000e-06</td>\n",
       "      <td>0.292680</td>\n",
       "    </tr>\n",
       "    <tr>\n",
       "      <th>23</th>\n",
       "      <td>0.0</td>\n",
       "      <td>302.584010</td>\n",
       "      <td>15600000.0</td>\n",
       "      <td>301.287664</td>\n",
       "      <td>3.650000e-05</td>\n",
       "      <td>0.293728</td>\n",
       "      <td>0.0</td>\n",
       "      <td>301.529034</td>\n",
       "      <td>13500000.0</td>\n",
       "      <td>299.506064</td>\n",
       "      <td>...</td>\n",
       "      <td>1.510000e+07</td>\n",
       "      <td>297.142524</td>\n",
       "      <td>2.570000e-06</td>\n",
       "      <td>0.292680</td>\n",
       "      <td>0.000000e+00</td>\n",
       "      <td>299.224924</td>\n",
       "      <td>1.510000e+07</td>\n",
       "      <td>297.278292</td>\n",
       "      <td>8.520000e-07</td>\n",
       "      <td>0.292600</td>\n",
       "    </tr>\n",
       "    <tr>\n",
       "      <th>24</th>\n",
       "      <td>0.0</td>\n",
       "      <td>301.529034</td>\n",
       "      <td>13500000.0</td>\n",
       "      <td>299.506064</td>\n",
       "      <td>2.861602e-03</td>\n",
       "      <td>0.293648</td>\n",
       "      <td>0.0</td>\n",
       "      <td>300.465239</td>\n",
       "      <td>12100000.0</td>\n",
       "      <td>298.705510</td>\n",
       "      <td>...</td>\n",
       "      <td>1.510000e+07</td>\n",
       "      <td>297.278292</td>\n",
       "      <td>8.520000e-07</td>\n",
       "      <td>0.292600</td>\n",
       "      <td>0.000000e+00</td>\n",
       "      <td>299.168738</td>\n",
       "      <td>1.420000e+07</td>\n",
       "      <td>297.196022</td>\n",
       "      <td>0.000000e+00</td>\n",
       "      <td>0.292519</td>\n",
       "    </tr>\n",
       "    <tr>\n",
       "      <th>25</th>\n",
       "      <td>0.0</td>\n",
       "      <td>300.465239</td>\n",
       "      <td>12100000.0</td>\n",
       "      <td>298.705510</td>\n",
       "      <td>2.231054e-03</td>\n",
       "      <td>0.293567</td>\n",
       "      <td>0.0</td>\n",
       "      <td>301.291794</td>\n",
       "      <td>14200000.0</td>\n",
       "      <td>299.709846</td>\n",
       "      <td>...</td>\n",
       "      <td>1.420000e+07</td>\n",
       "      <td>297.196022</td>\n",
       "      <td>0.000000e+00</td>\n",
       "      <td>0.292519</td>\n",
       "      <td>0.000000e+00</td>\n",
       "      <td>299.273575</td>\n",
       "      <td>1.490000e+07</td>\n",
       "      <td>297.322141</td>\n",
       "      <td>0.000000e+00</td>\n",
       "      <td>0.292438</td>\n",
       "    </tr>\n",
       "    <tr>\n",
       "      <th>26</th>\n",
       "      <td>0.0</td>\n",
       "      <td>301.291794</td>\n",
       "      <td>14200000.0</td>\n",
       "      <td>299.709846</td>\n",
       "      <td>4.270000e-04</td>\n",
       "      <td>0.293487</td>\n",
       "      <td>0.0</td>\n",
       "      <td>300.557550</td>\n",
       "      <td>13500000.0</td>\n",
       "      <td>298.301285</td>\n",
       "      <td>...</td>\n",
       "      <td>1.490000e+07</td>\n",
       "      <td>297.322141</td>\n",
       "      <td>0.000000e+00</td>\n",
       "      <td>0.292438</td>\n",
       "      <td>0.000000e+00</td>\n",
       "      <td>297.600008</td>\n",
       "      <td>9.410599e+06</td>\n",
       "      <td>295.510396</td>\n",
       "      <td>4.620000e-04</td>\n",
       "      <td>0.292358</td>\n",
       "    </tr>\n",
       "    <tr>\n",
       "      <th>27</th>\n",
       "      <td>0.0</td>\n",
       "      <td>300.557550</td>\n",
       "      <td>13500000.0</td>\n",
       "      <td>298.301285</td>\n",
       "      <td>2.557506e-03</td>\n",
       "      <td>0.293406</td>\n",
       "      <td>0.0</td>\n",
       "      <td>300.686545</td>\n",
       "      <td>13900000.0</td>\n",
       "      <td>298.772994</td>\n",
       "      <td>...</td>\n",
       "      <td>9.410599e+06</td>\n",
       "      <td>295.510396</td>\n",
       "      <td>4.620000e-04</td>\n",
       "      <td>0.292358</td>\n",
       "      <td>0.000000e+00</td>\n",
       "      <td>295.914439</td>\n",
       "      <td>9.500276e+06</td>\n",
       "      <td>293.049891</td>\n",
       "      <td>4.489928e-03</td>\n",
       "      <td>0.292277</td>\n",
       "    </tr>\n",
       "    <tr>\n",
       "      <th>28</th>\n",
       "      <td>0.0</td>\n",
       "      <td>300.686545</td>\n",
       "      <td>13900000.0</td>\n",
       "      <td>298.772994</td>\n",
       "      <td>3.830000e-04</td>\n",
       "      <td>0.293325</td>\n",
       "      <td>0.0</td>\n",
       "      <td>300.895984</td>\n",
       "      <td>14300000.0</td>\n",
       "      <td>299.103853</td>\n",
       "      <td>...</td>\n",
       "      <td>9.500276e+06</td>\n",
       "      <td>293.049891</td>\n",
       "      <td>4.489928e-03</td>\n",
       "      <td>0.292277</td>\n",
       "      <td>0.000000e+00</td>\n",
       "      <td>296.897004</td>\n",
       "      <td>1.380000e+07</td>\n",
       "      <td>294.857717</td>\n",
       "      <td>2.120000e-05</td>\n",
       "      <td>0.292196</td>\n",
       "    </tr>\n",
       "  </tbody>\n",
       "</table>\n",
       "<p>15 rows × 90 columns</p>\n",
       "</div>\n",
       "    <div class=\"colab-df-buttons\">\n",
       "\n",
       "  <div class=\"colab-df-container\">\n",
       "    <button class=\"colab-df-convert\" onclick=\"convertToInteractive('df-c8b004b0-30c1-4663-ab60-0a1dfdd3aa65')\"\n",
       "            title=\"Convert this dataframe to an interactive table.\"\n",
       "            style=\"display:none;\">\n",
       "\n",
       "  <svg xmlns=\"http://www.w3.org/2000/svg\" height=\"24px\" viewBox=\"0 -960 960 960\">\n",
       "    <path d=\"M120-120v-720h720v720H120Zm60-500h600v-160H180v160Zm220 220h160v-160H400v160Zm0 220h160v-160H400v160ZM180-400h160v-160H180v160Zm440 0h160v-160H620v160ZM180-180h160v-160H180v160Zm440 0h160v-160H620v160Z\"/>\n",
       "  </svg>\n",
       "    </button>\n",
       "\n",
       "  <style>\n",
       "    .colab-df-container {\n",
       "      display:flex;\n",
       "      gap: 12px;\n",
       "    }\n",
       "\n",
       "    .colab-df-convert {\n",
       "      background-color: #E8F0FE;\n",
       "      border: none;\n",
       "      border-radius: 50%;\n",
       "      cursor: pointer;\n",
       "      display: none;\n",
       "      fill: #1967D2;\n",
       "      height: 32px;\n",
       "      padding: 0 0 0 0;\n",
       "      width: 32px;\n",
       "    }\n",
       "\n",
       "    .colab-df-convert:hover {\n",
       "      background-color: #E2EBFA;\n",
       "      box-shadow: 0px 1px 2px rgba(60, 64, 67, 0.3), 0px 1px 3px 1px rgba(60, 64, 67, 0.15);\n",
       "      fill: #174EA6;\n",
       "    }\n",
       "\n",
       "    .colab-df-buttons div {\n",
       "      margin-bottom: 4px;\n",
       "    }\n",
       "\n",
       "    [theme=dark] .colab-df-convert {\n",
       "      background-color: #3B4455;\n",
       "      fill: #D2E3FC;\n",
       "    }\n",
       "\n",
       "    [theme=dark] .colab-df-convert:hover {\n",
       "      background-color: #434B5C;\n",
       "      box-shadow: 0px 1px 3px 1px rgba(0, 0, 0, 0.15);\n",
       "      filter: drop-shadow(0px 1px 2px rgba(0, 0, 0, 0.3));\n",
       "      fill: #FFFFFF;\n",
       "    }\n",
       "  </style>\n",
       "\n",
       "    <script>\n",
       "      const buttonEl =\n",
       "        document.querySelector('#df-c8b004b0-30c1-4663-ab60-0a1dfdd3aa65 button.colab-df-convert');\n",
       "      buttonEl.style.display =\n",
       "        google.colab.kernel.accessAllowed ? 'block' : 'none';\n",
       "\n",
       "      async function convertToInteractive(key) {\n",
       "        const element = document.querySelector('#df-c8b004b0-30c1-4663-ab60-0a1dfdd3aa65');\n",
       "        const dataTable =\n",
       "          await google.colab.kernel.invokeFunction('convertToInteractive',\n",
       "                                                    [key], {});\n",
       "        if (!dataTable) return;\n",
       "\n",
       "        const docLinkHtml = 'Like what you see? Visit the ' +\n",
       "          '<a target=\"_blank\" href=https://colab.research.google.com/notebooks/data_table.ipynb>data table notebook</a>'\n",
       "          + ' to learn more about interactive tables.';\n",
       "        element.innerHTML = '';\n",
       "        dataTable['output_type'] = 'display_data';\n",
       "        await google.colab.output.renderOutput(dataTable, element);\n",
       "        const docLink = document.createElement('div');\n",
       "        docLink.innerHTML = docLinkHtml;\n",
       "        element.appendChild(docLink);\n",
       "      }\n",
       "    </script>\n",
       "  </div>\n",
       "\n",
       "\n",
       "<div id=\"df-defa9ec2-1e95-4563-a10c-b7916be3a4c4\">\n",
       "  <button class=\"colab-df-quickchart\" onclick=\"quickchart('df-defa9ec2-1e95-4563-a10c-b7916be3a4c4')\"\n",
       "            title=\"Suggest charts\"\n",
       "            style=\"display:none;\">\n",
       "\n",
       "<svg xmlns=\"http://www.w3.org/2000/svg\" height=\"24px\"viewBox=\"0 0 24 24\"\n",
       "     width=\"24px\">\n",
       "    <g>\n",
       "        <path d=\"M19 3H5c-1.1 0-2 .9-2 2v14c0 1.1.9 2 2 2h14c1.1 0 2-.9 2-2V5c0-1.1-.9-2-2-2zM9 17H7v-7h2v7zm4 0h-2V7h2v10zm4 0h-2v-4h2v4z\"/>\n",
       "    </g>\n",
       "</svg>\n",
       "  </button>\n",
       "\n",
       "<style>\n",
       "  .colab-df-quickchart {\n",
       "      --bg-color: #E8F0FE;\n",
       "      --fill-color: #1967D2;\n",
       "      --hover-bg-color: #E2EBFA;\n",
       "      --hover-fill-color: #174EA6;\n",
       "      --disabled-fill-color: #AAA;\n",
       "      --disabled-bg-color: #DDD;\n",
       "  }\n",
       "\n",
       "  [theme=dark] .colab-df-quickchart {\n",
       "      --bg-color: #3B4455;\n",
       "      --fill-color: #D2E3FC;\n",
       "      --hover-bg-color: #434B5C;\n",
       "      --hover-fill-color: #FFFFFF;\n",
       "      --disabled-bg-color: #3B4455;\n",
       "      --disabled-fill-color: #666;\n",
       "  }\n",
       "\n",
       "  .colab-df-quickchart {\n",
       "    background-color: var(--bg-color);\n",
       "    border: none;\n",
       "    border-radius: 50%;\n",
       "    cursor: pointer;\n",
       "    display: none;\n",
       "    fill: var(--fill-color);\n",
       "    height: 32px;\n",
       "    padding: 0;\n",
       "    width: 32px;\n",
       "  }\n",
       "\n",
       "  .colab-df-quickchart:hover {\n",
       "    background-color: var(--hover-bg-color);\n",
       "    box-shadow: 0 1px 2px rgba(60, 64, 67, 0.3), 0 1px 3px 1px rgba(60, 64, 67, 0.15);\n",
       "    fill: var(--button-hover-fill-color);\n",
       "  }\n",
       "\n",
       "  .colab-df-quickchart-complete:disabled,\n",
       "  .colab-df-quickchart-complete:disabled:hover {\n",
       "    background-color: var(--disabled-bg-color);\n",
       "    fill: var(--disabled-fill-color);\n",
       "    box-shadow: none;\n",
       "  }\n",
       "\n",
       "  .colab-df-spinner {\n",
       "    border: 2px solid var(--fill-color);\n",
       "    border-color: transparent;\n",
       "    border-bottom-color: var(--fill-color);\n",
       "    animation:\n",
       "      spin 1s steps(1) infinite;\n",
       "  }\n",
       "\n",
       "  @keyframes spin {\n",
       "    0% {\n",
       "      border-color: transparent;\n",
       "      border-bottom-color: var(--fill-color);\n",
       "      border-left-color: var(--fill-color);\n",
       "    }\n",
       "    20% {\n",
       "      border-color: transparent;\n",
       "      border-left-color: var(--fill-color);\n",
       "      border-top-color: var(--fill-color);\n",
       "    }\n",
       "    30% {\n",
       "      border-color: transparent;\n",
       "      border-left-color: var(--fill-color);\n",
       "      border-top-color: var(--fill-color);\n",
       "      border-right-color: var(--fill-color);\n",
       "    }\n",
       "    40% {\n",
       "      border-color: transparent;\n",
       "      border-right-color: var(--fill-color);\n",
       "      border-top-color: var(--fill-color);\n",
       "    }\n",
       "    60% {\n",
       "      border-color: transparent;\n",
       "      border-right-color: var(--fill-color);\n",
       "    }\n",
       "    80% {\n",
       "      border-color: transparent;\n",
       "      border-right-color: var(--fill-color);\n",
       "      border-bottom-color: var(--fill-color);\n",
       "    }\n",
       "    90% {\n",
       "      border-color: transparent;\n",
       "      border-bottom-color: var(--fill-color);\n",
       "    }\n",
       "  }\n",
       "</style>\n",
       "\n",
       "  <script>\n",
       "    async function quickchart(key) {\n",
       "      const quickchartButtonEl =\n",
       "        document.querySelector('#' + key + ' button');\n",
       "      quickchartButtonEl.disabled = true;  // To prevent multiple clicks.\n",
       "      quickchartButtonEl.classList.add('colab-df-spinner');\n",
       "      try {\n",
       "        const charts = await google.colab.kernel.invokeFunction(\n",
       "            'suggestCharts', [key], {});\n",
       "      } catch (error) {\n",
       "        console.error('Error during call to suggestCharts:', error);\n",
       "      }\n",
       "      quickchartButtonEl.classList.remove('colab-df-spinner');\n",
       "      quickchartButtonEl.classList.add('colab-df-quickchart-complete');\n",
       "    }\n",
       "    (() => {\n",
       "      let quickchartButtonEl =\n",
       "        document.querySelector('#df-defa9ec2-1e95-4563-a10c-b7916be3a4c4 button');\n",
       "      quickchartButtonEl.style.display =\n",
       "        google.colab.kernel.accessAllowed ? 'block' : 'none';\n",
       "    })();\n",
       "  </script>\n",
       "</div>\n",
       "    </div>\n",
       "  </div>\n"
      ],
      "text/plain": [
       "    var1(t-14)  var2(t-14)  var3(t-14)  var4(t-14)    var5(t-14)  var6(t-14)  \\\n",
       "14         0.0  301.237361  17300000.0  299.785082  0.000000e+00    0.294454   \n",
       "15         0.0  300.670247  17400000.0  299.757111  1.280000e-06    0.294374   \n",
       "16         0.0  301.611605  16900000.0  300.595834  0.000000e+00    0.294293   \n",
       "17         0.0  302.113707  16100000.0  300.924228  1.270000e-06    0.294212   \n",
       "18         0.0  302.338162  16300000.0  301.113778  8.670000e-07    0.294132   \n",
       "19         0.0  302.180309  16700000.0  300.671857  4.350000e-07    0.294051   \n",
       "20         0.0  302.090804  16400000.0  300.728049  4.260000e-07    0.293970   \n",
       "21         0.0  301.803869  16500000.0  300.817808  4.260000e-07    0.293890   \n",
       "22         0.0  302.119253  16300000.0  300.873609  8.520000e-07    0.293809   \n",
       "23         0.0  302.584010  15600000.0  301.287664  3.650000e-05    0.293728   \n",
       "24         0.0  301.529034  13500000.0  299.506064  2.861602e-03    0.293648   \n",
       "25         0.0  300.465239  12100000.0  298.705510  2.231054e-03    0.293567   \n",
       "26         0.0  301.291794  14200000.0  299.709846  4.270000e-04    0.293487   \n",
       "27         0.0  300.557550  13500000.0  298.301285  2.557506e-03    0.293406   \n",
       "28         0.0  300.686545  13900000.0  298.772994  3.830000e-04    0.293325   \n",
       "\n",
       "    var1(t-13)  var2(t-13)  var3(t-13)  var4(t-13)  ...     var3(t-1)  \\\n",
       "14         0.0  300.670247  17400000.0  299.757111  ...  1.350000e+07   \n",
       "15         0.0  301.611605  16900000.0  300.595834  ...  1.390000e+07   \n",
       "16         0.0  302.113707  16100000.0  300.924228  ...  1.430000e+07   \n",
       "17         0.0  302.338162  16300000.0  301.113778  ...  1.480000e+07   \n",
       "18         0.0  302.180309  16700000.0  300.671857  ...  1.500000e+07   \n",
       "19         0.0  302.090804  16400000.0  300.728049  ...  1.460000e+07   \n",
       "20         0.0  301.803869  16500000.0  300.817808  ...  1.520000e+07   \n",
       "21         0.0  302.119253  16300000.0  300.873609  ...  1.580000e+07   \n",
       "22         0.0  302.584010  15600000.0  301.287664  ...  1.570000e+07   \n",
       "23         0.0  301.529034  13500000.0  299.506064  ...  1.510000e+07   \n",
       "24         0.0  300.465239  12100000.0  298.705510  ...  1.510000e+07   \n",
       "25         0.0  301.291794  14200000.0  299.709846  ...  1.420000e+07   \n",
       "26         0.0  300.557550  13500000.0  298.301285  ...  1.490000e+07   \n",
       "27         0.0  300.686545  13900000.0  298.772994  ...  9.410599e+06   \n",
       "28         0.0  300.895984  14300000.0  299.103853  ...  9.500276e+06   \n",
       "\n",
       "     var4(t-1)     var5(t-1)  var6(t-1)       var1(t)     var2(t)  \\\n",
       "14  298.301285  2.557506e-03   0.293406  0.000000e+00  300.686545   \n",
       "15  298.772994  3.830000e-04   0.293325  0.000000e+00  300.895984   \n",
       "16  299.103853  1.250000e-04   0.293245  9.310000e-10  301.070403   \n",
       "17  299.342286  9.580000e-06   0.293164  0.000000e+00  301.339098   \n",
       "18  300.003612  7.080000e-08   0.293083  0.000000e+00  301.123823   \n",
       "19  299.757253  3.610000e-04   0.293003  0.000000e+00  300.658583   \n",
       "20  299.174325  8.520000e-07   0.292922  0.000000e+00  299.533728   \n",
       "21  297.837704  4.350000e-07   0.292841  0.000000e+00  298.932919   \n",
       "22  297.118923  0.000000e+00   0.292761  0.000000e+00  298.863506   \n",
       "23  297.142524  2.570000e-06   0.292680  0.000000e+00  299.224924   \n",
       "24  297.278292  8.520000e-07   0.292600  0.000000e+00  299.168738   \n",
       "25  297.196022  0.000000e+00   0.292519  0.000000e+00  299.273575   \n",
       "26  297.322141  0.000000e+00   0.292438  0.000000e+00  297.600008   \n",
       "27  295.510396  4.620000e-04   0.292358  0.000000e+00  295.914439   \n",
       "28  293.049891  4.489928e-03   0.292277  0.000000e+00  296.897004   \n",
       "\n",
       "         var3(t)     var4(t)       var5(t)   var6(t)  \n",
       "14  1.390000e+07  298.772994  3.830000e-04  0.293325  \n",
       "15  1.430000e+07  299.103853  1.250000e-04  0.293245  \n",
       "16  1.480000e+07  299.342286  9.580000e-06  0.293164  \n",
       "17  1.500000e+07  300.003612  7.080000e-08  0.293083  \n",
       "18  1.460000e+07  299.757253  3.610000e-04  0.293003  \n",
       "19  1.520000e+07  299.174325  8.520000e-07  0.292922  \n",
       "20  1.580000e+07  297.837704  4.350000e-07  0.292841  \n",
       "21  1.570000e+07  297.118923  0.000000e+00  0.292761  \n",
       "22  1.510000e+07  297.142524  2.570000e-06  0.292680  \n",
       "23  1.510000e+07  297.278292  8.520000e-07  0.292600  \n",
       "24  1.420000e+07  297.196022  0.000000e+00  0.292519  \n",
       "25  1.490000e+07  297.322141  0.000000e+00  0.292438  \n",
       "26  9.410599e+06  295.510396  4.620000e-04  0.292358  \n",
       "27  9.500276e+06  293.049891  4.489928e-03  0.292277  \n",
       "28  1.380000e+07  294.857717  2.120000e-05  0.292196  \n",
       "\n",
       "[15 rows x 90 columns]"
      ]
     },
     "execution_count": 86,
     "metadata": {},
     "output_type": "execute_result"
    }
   ],
   "source": [
    "values = lstm_df.values\n",
    "\n",
    "lstm_model_df = series_to_supervised(values, 14, 1)\n",
    "\n",
    "lstm_model_df.head(15)"
   ]
  },
  {
   "cell_type": "code",
   "execution_count": null,
   "id": "LLhII8Z3ikJY",
   "metadata": {
    "id": "LLhII8Z3ikJY"
   },
   "outputs": [],
   "source": []
  },
  {
   "cell_type": "markdown",
   "id": "56bab2c3",
   "metadata": {
    "id": "56bab2c3"
   },
   "source": [
    "### Splitting dataset to train and test"
   ]
  },
  {
   "cell_type": "markdown",
   "id": "3b9865dd",
   "metadata": {
    "id": "3b9865dd"
   },
   "source": [
    "#### Using first Six years for testing"
   ]
  },
  {
   "cell_type": "code",
   "execution_count": null,
   "id": "1db8bf94",
   "metadata": {
    "colab": {
     "base_uri": "https://localhost:8080/"
    },
    "id": "1db8bf94",
    "outputId": "2ab564e9-874e-4c27-d611-8e42a71dfcdb"
   },
   "outputs": [
    {
     "data": {
      "text/plain": [
       "(2636, 6)"
      ]
     },
     "execution_count": 89,
     "metadata": {},
     "output_type": "execute_result"
    }
   ],
   "source": [
    "output_df.shape\n"
   ]
  },
  {
   "cell_type": "code",
   "execution_count": null,
   "id": "b01fb8fe",
   "metadata": {
    "id": "b01fb8fe"
   },
   "outputs": [],
   "source": [
    "#first 6 years is 365*6 days\n",
    "import numpy as np\n",
    "\n",
    "values = output_df.values\n",
    "train = values[:2190, :]\n",
    "test = values[2190:, :]\n",
    "\n",
    "train_X, train_y = train[:, 1:], train[:, 0]\n",
    "test_X, test_y = test[:, 1:], test[:,0]\n",
    "\n",
    "train_X = np.array(train_X)\n",
    "train_y = np.array(train_y)\n",
    "test_X = np.array(test_X)\n",
    "test_y = np.array(test_y)\n"
   ]
  },
  {
   "cell_type": "code",
   "execution_count": null,
   "id": "fb0fc198",
   "metadata": {
    "colab": {
     "base_uri": "https://localhost:8080/"
    },
    "id": "fb0fc198",
    "outputId": "739dea6d-3fe4-4431-aa8b-1db058ea4697"
   },
   "outputs": [
    {
     "name": "stdout",
     "output_type": "stream",
     "text": [
      "(2190, 5) (2190,) (446, 5) (446,)\n"
     ]
    }
   ],
   "source": [
    "print(train_X.shape, train_y.shape, test_X.shape, test_y.shape)"
   ]
  },
  {
   "cell_type": "markdown",
   "id": "5TlDsD56jlFs",
   "metadata": {
    "id": "5TlDsD56jlFs"
   },
   "source": [
    "####For lstm model train and test dataset"
   ]
  },
  {
   "cell_type": "code",
   "execution_count": null,
   "id": "9DpUrMqiYhuv",
   "metadata": {
    "colab": {
     "base_uri": "https://localhost:8080/"
    },
    "id": "9DpUrMqiYhuv",
    "outputId": "cacde39e-81bc-4fbb-ba3a-1b3d290168ad"
   },
   "outputs": [
    {
     "data": {
      "text/plain": [
       "(2622, 90)"
      ]
     },
     "execution_count": 93,
     "metadata": {},
     "output_type": "execute_result"
    }
   ],
   "source": [
    "lstm_model_df.shape"
   ]
  },
  {
   "cell_type": "code",
   "execution_count": null,
   "id": "wxib94GLYmBc",
   "metadata": {
    "id": "wxib94GLYmBc"
   },
   "outputs": [],
   "source": [
    "#first 6 years is 365*6 days\n",
    "import numpy as np\n",
    "\n",
    "values = lstm_model_df.values\n",
    "train = values[:2190, :]\n",
    "test = values[2190:, :]\n",
    "\n",
    "X_train, y_train = train[:, :-1], train[:, -1]\n",
    "X_test, y_test = test[:, :-1], test[:, -1]"
   ]
  },
  {
   "cell_type": "code",
   "execution_count": null,
   "id": "EgnloPfTjuUe",
   "metadata": {
    "colab": {
     "base_uri": "https://localhost:8080/"
    },
    "id": "EgnloPfTjuUe",
    "outputId": "0917c03e-942a-4b94-aeda-e7d4f64628b2"
   },
   "outputs": [
    {
     "name": "stdout",
     "output_type": "stream",
     "text": [
      "(2190, 89) (2190,) (432, 89) (432,)\n"
     ]
    }
   ],
   "source": [
    "print(X_train.shape, y_train.shape, X_test.shape, y_test.shape)"
   ]
  },
  {
   "cell_type": "markdown",
   "id": "VVb_OCVApew2",
   "metadata": {
    "id": "VVb_OCVApew2"
   },
   "source": [
    "## Multiple Linear Regression"
   ]
  },
  {
   "cell_type": "code",
   "execution_count": null,
   "id": "4JxV2Z6zrWxx",
   "metadata": {
    "id": "4JxV2Z6zrWxx"
   },
   "outputs": [],
   "source": [
    "import numpy as np\n",
    "import pandas as pd\n",
    "from sklearn.model_selection import train_test_split\n",
    "from sklearn.linear_model import LinearRegression\n",
    "from sklearn import metrics\n",
    "import matplotlib.pyplot as plt"
   ]
  },
  {
   "cell_type": "code",
   "execution_count": null,
   "id": "LmtM4CPCpp1E",
   "metadata": {
    "colab": {
     "base_uri": "https://localhost:8080/"
    },
    "id": "LmtM4CPCpp1E",
    "outputId": "5c32f34f-e824-4989-ef29-0bc641274451"
   },
   "outputs": [
    {
     "name": "stdout",
     "output_type": "stream",
     "text": [
      "Mean Squared Error (MSE): 0.0006936771185266621\n"
     ]
    }
   ],
   "source": [
    "# Create a linear regression model and fit it to the training data\n",
    "model = LinearRegression()\n",
    "model.fit(train_X, train_y)\n",
    "\n",
    "# Make predictions on the testing set\n",
    "y_prediction = model.predict(test_X)\n",
    "\n",
    "# Evaluate the model\n",
    "mse = metrics.mean_squared_error(test_y, y_prediction)\n",
    "\n",
    "print(f'Mean Squared Error (MSE): {mse}')"
   ]
  },
  {
   "cell_type": "code",
   "execution_count": null,
   "id": "SkNy22ZYssLA",
   "metadata": {
    "colab": {
     "base_uri": "https://localhost:8080/",
     "height": 464
    },
    "id": "SkNy22ZYssLA",
    "outputId": "c59aa2ef-567a-4208-9246-19cdf4cfcaf0"
   },
   "outputs": [
    {
     "data": {
      "text/plain": [
       "<matplotlib.legend.Legend at 0x79180995afe0>"
      ]
     },
     "execution_count": 46,
     "metadata": {},
     "output_type": "execute_result"
    },
    {
     "data": {
      "image/png": "[encoded data removed]",
      "text/plain": [
       "<Figure size 640x480 with 1 Axes>"
      ]
     },
     "metadata": {},
     "output_type": "display_data"
    }
   ],
   "source": [
    "plt.plot(range(len(test_y)), y_prediction, label='Predicted')\n",
    "plt.plot(range(len(test_y)), test_y, label='True')\n",
    "plt.legend()"
   ]
  },
  {
   "cell_type": "code",
   "execution_count": null,
   "id": "-0yvWOI15mFS",
   "metadata": {
    "id": "-0yvWOI15mFS"
   },
   "outputs": [],
   "source": [
    "import joblib"
   ]
  },
  {
   "cell_type": "code",
   "execution_count": null,
   "id": "u8rwZJsv5osH",
   "metadata": {
    "colab": {
     "base_uri": "https://localhost:8080/"
    },
    "id": "u8rwZJsv5osH",
    "outputId": "29d6ad7b-9b4f-43d5-b446-c546d27bab95"
   },
   "outputs": [
    {
     "data": {
      "text/plain": [
       "['mlr.sav']"
      ]
     },
     "execution_count": 48,
     "metadata": {},
     "output_type": "execute_result"
    }
   ],
   "source": [
    "joblib.dump(model,'mlr.sav')"
   ]
  },
  {
   "cell_type": "markdown",
   "id": "9d31e915",
   "metadata": {
    "id": "9d31e915"
   },
   "source": [
    "## Defining LSTM Model\n",
    "### LSTM models expect input in 3D ie [samples, timesteps, features]"
   ]
  },
  {
   "cell_type": "code",
   "execution_count": null,
   "id": "20140ef9",
   "metadata": {
    "colab": {
     "base_uri": "https://localhost:8080/"
    },
    "id": "20140ef9",
    "outputId": "8cfde12b-2d5d-4193-877a-96e0924e1a13"
   },
   "outputs": [
    {
     "name": "stdout",
     "output_type": "stream",
     "text": [
      "(2190, 1, 89) (2190,) (432, 1, 89) (432,)\n"
     ]
    }
   ],
   "source": [
    "#Reshaping input data as 3D\n",
    "\n",
    "train_X_lstm = X_train.reshape(X_train.shape[0], 1, X_train.shape[1])\n",
    "test_X_lstm = X_test.reshape(X_test.shape[0], 1, X_test.shape[1])\n",
    "\n",
    "print(train_X_lstm.shape, y_train.shape, test_X_lstm.shape, y_test.shape)"
   ]
  },
  {
   "cell_type": "code",
   "execution_count": null,
   "id": "aXCDbQlClNUh",
   "metadata": {
    "id": "aXCDbQlClNUh"
   },
   "outputs": [],
   "source": [
    "from keras.layers import LSTM, Dense"
   ]
  },
  {
   "cell_type": "code",
   "execution_count": null,
   "id": "R8t1Sf-2lnG0",
   "metadata": {
    "id": "R8t1Sf-2lnG0"
   },
   "outputs": [],
   "source": [
    "train_X_lstm = train_X_lstm.astype(np.float32)\n",
    "y_train = y_train.astype(np.float32)\n",
    "test_X_lstm = test_X_lstm.astype(np.float32)\n",
    "y_test = y_test.astype(np.float32)"
   ]
  },
  {
   "cell_type": "code",
   "execution_count": null,
   "id": "16113d84",
   "metadata": {
    "id": "16113d84"
   },
   "outputs": [],
   "source": [
    "def create_lstm_model(input_shape):\n",
    "    model = Sequential()\n",
    "    model.add(LSTM(units=50, input_shape=input_shape))\n",
    "    model.add(Dense(units=1))  # Output layer with 1 unit for regression\n",
    "    model.compile(optimizer='adam', loss='mae')\n",
    "    return model"
   ]
  },
  {
   "cell_type": "code",
   "execution_count": null,
   "id": "06c80177",
   "metadata": {
    "colab": {
     "base_uri": "https://localhost:8080/"
    },
    "id": "06c80177",
    "outputId": "10b30b62-24a7-4c03-880b-aae757bc98dc"
   },
   "outputs": [
    {
     "name": "stdout",
     "output_type": "stream",
     "text": [
      "Epoch 1/100\n",
      "73/73 - 3s - loss: 0.2165 - val_loss: 0.1982 - 3s/epoch - 36ms/step\n",
      "Epoch 2/100\n",
      "73/73 - 0s - loss: 0.1824 - val_loss: 0.1710 - 163ms/epoch - 2ms/step\n",
      "Epoch 3/100\n",
      "73/73 - 0s - loss: 0.1572 - val_loss: 0.1468 - 141ms/epoch - 2ms/step\n",
      "Epoch 4/100\n",
      "73/73 - 0s - loss: 0.1343 - val_loss: 0.1254 - 156ms/epoch - 2ms/step\n",
      "Epoch 5/100\n",
      "73/73 - 0s - loss: 0.1142 - val_loss: 0.1084 - 132ms/epoch - 2ms/step\n",
      "Epoch 6/100\n",
      "73/73 - 0s - loss: 0.0958 - val_loss: 0.0928 - 138ms/epoch - 2ms/step\n",
      "Epoch 7/100\n",
      "73/73 - 0s - loss: 0.0823 - val_loss: 0.0797 - 142ms/epoch - 2ms/step\n",
      "Epoch 8/100\n",
      "73/73 - 0s - loss: 0.0704 - val_loss: 0.0686 - 146ms/epoch - 2ms/step\n",
      "Epoch 9/100\n",
      "73/73 - 0s - loss: 0.0621 - val_loss: 0.0606 - 157ms/epoch - 2ms/step\n",
      "Epoch 10/100\n",
      "73/73 - 0s - loss: 0.0552 - val_loss: 0.0545 - 144ms/epoch - 2ms/step\n",
      "Epoch 11/100\n",
      "73/73 - 0s - loss: 0.0519 - val_loss: 0.0499 - 137ms/epoch - 2ms/step\n",
      "Epoch 12/100\n",
      "73/73 - 0s - loss: 0.0480 - val_loss: 0.0463 - 140ms/epoch - 2ms/step\n",
      "Epoch 13/100\n",
      "73/73 - 0s - loss: 0.0451 - val_loss: 0.0440 - 135ms/epoch - 2ms/step\n",
      "Epoch 14/100\n",
      "73/73 - 0s - loss: 0.0437 - val_loss: 0.0423 - 143ms/epoch - 2ms/step\n",
      "Epoch 15/100\n",
      "73/73 - 0s - loss: 0.0431 - val_loss: 0.0405 - 133ms/epoch - 2ms/step\n",
      "Epoch 16/100\n",
      "73/73 - 0s - loss: 0.0425 - val_loss: 0.0389 - 141ms/epoch - 2ms/step\n",
      "Epoch 17/100\n",
      "73/73 - 0s - loss: 0.0416 - val_loss: 0.0380 - 147ms/epoch - 2ms/step\n",
      "Epoch 18/100\n",
      "73/73 - 0s - loss: 0.0415 - val_loss: 0.0372 - 153ms/epoch - 2ms/step\n",
      "Epoch 19/100\n",
      "73/73 - 0s - loss: 0.0408 - val_loss: 0.0363 - 150ms/epoch - 2ms/step\n",
      "Epoch 20/100\n",
      "73/73 - 0s - loss: 0.0403 - val_loss: 0.0355 - 145ms/epoch - 2ms/step\n",
      "Epoch 21/100\n",
      "73/73 - 0s - loss: 0.0395 - val_loss: 0.0349 - 148ms/epoch - 2ms/step\n",
      "Epoch 22/100\n",
      "73/73 - 0s - loss: 0.0386 - val_loss: 0.0352 - 147ms/epoch - 2ms/step\n",
      "Epoch 23/100\n",
      "73/73 - 0s - loss: 0.0378 - val_loss: 0.0354 - 131ms/epoch - 2ms/step\n",
      "Epoch 24/100\n",
      "73/73 - 0s - loss: 0.0376 - val_loss: 0.0349 - 142ms/epoch - 2ms/step\n",
      "Epoch 25/100\n",
      "73/73 - 0s - loss: 0.0371 - val_loss: 0.0354 - 152ms/epoch - 2ms/step\n",
      "Epoch 26/100\n",
      "73/73 - 0s - loss: 0.0377 - val_loss: 0.0366 - 140ms/epoch - 2ms/step\n",
      "Epoch 27/100\n",
      "73/73 - 0s - loss: 0.0367 - val_loss: 0.0370 - 138ms/epoch - 2ms/step\n",
      "Epoch 28/100\n",
      "73/73 - 0s - loss: 0.0362 - val_loss: 0.0380 - 142ms/epoch - 2ms/step\n",
      "Epoch 29/100\n",
      "73/73 - 0s - loss: 0.0361 - val_loss: 0.0367 - 140ms/epoch - 2ms/step\n",
      "Epoch 30/100\n",
      "73/73 - 0s - loss: 0.0358 - val_loss: 0.0383 - 137ms/epoch - 2ms/step\n",
      "Epoch 31/100\n",
      "73/73 - 0s - loss: 0.0351 - val_loss: 0.0384 - 151ms/epoch - 2ms/step\n",
      "Epoch 32/100\n",
      "73/73 - 0s - loss: 0.0348 - val_loss: 0.0379 - 135ms/epoch - 2ms/step\n",
      "Epoch 33/100\n",
      "73/73 - 0s - loss: 0.0347 - val_loss: 0.0375 - 137ms/epoch - 2ms/step\n",
      "Epoch 34/100\n",
      "73/73 - 0s - loss: 0.0344 - val_loss: 0.0375 - 138ms/epoch - 2ms/step\n",
      "Epoch 35/100\n",
      "73/73 - 0s - loss: 0.0341 - val_loss: 0.0373 - 147ms/epoch - 2ms/step\n",
      "Epoch 36/100\n",
      "73/73 - 0s - loss: 0.0339 - val_loss: 0.0373 - 140ms/epoch - 2ms/step\n",
      "Epoch 37/100\n",
      "73/73 - 0s - loss: 0.0335 - val_loss: 0.0370 - 138ms/epoch - 2ms/step\n",
      "Epoch 38/100\n",
      "73/73 - 0s - loss: 0.0332 - val_loss: 0.0371 - 146ms/epoch - 2ms/step\n",
      "Epoch 39/100\n",
      "73/73 - 0s - loss: 0.0329 - val_loss: 0.0371 - 157ms/epoch - 2ms/step\n",
      "Epoch 40/100\n",
      "73/73 - 0s - loss: 0.0327 - val_loss: 0.0355 - 153ms/epoch - 2ms/step\n",
      "Epoch 41/100\n",
      "73/73 - 0s - loss: 0.0326 - val_loss: 0.0361 - 144ms/epoch - 2ms/step\n",
      "Epoch 42/100\n",
      "73/73 - 0s - loss: 0.0324 - val_loss: 0.0358 - 146ms/epoch - 2ms/step\n",
      "Epoch 43/100\n",
      "73/73 - 0s - loss: 0.0323 - val_loss: 0.0348 - 133ms/epoch - 2ms/step\n",
      "Epoch 44/100\n",
      "73/73 - 0s - loss: 0.0321 - val_loss: 0.0354 - 148ms/epoch - 2ms/step\n",
      "Epoch 45/100\n",
      "73/73 - 0s - loss: 0.0318 - val_loss: 0.0353 - 143ms/epoch - 2ms/step\n",
      "Epoch 46/100\n",
      "73/73 - 0s - loss: 0.0316 - val_loss: 0.0347 - 144ms/epoch - 2ms/step\n",
      "Epoch 47/100\n",
      "73/73 - 0s - loss: 0.0315 - val_loss: 0.0352 - 136ms/epoch - 2ms/step\n",
      "Epoch 48/100\n",
      "73/73 - 0s - loss: 0.0314 - val_loss: 0.0346 - 135ms/epoch - 2ms/step\n",
      "Epoch 49/100\n",
      "73/73 - 0s - loss: 0.0313 - val_loss: 0.0347 - 143ms/epoch - 2ms/step\n",
      "Epoch 50/100\n",
      "73/73 - 0s - loss: 0.0311 - val_loss: 0.0350 - 146ms/epoch - 2ms/step\n",
      "Epoch 51/100\n",
      "73/73 - 0s - loss: 0.0309 - val_loss: 0.0344 - 135ms/epoch - 2ms/step\n",
      "Epoch 52/100\n",
      "73/73 - 0s - loss: 0.0309 - val_loss: 0.0337 - 136ms/epoch - 2ms/step\n",
      "Epoch 53/100\n",
      "73/73 - 0s - loss: 0.0307 - val_loss: 0.0341 - 143ms/epoch - 2ms/step\n",
      "Epoch 54/100\n",
      "73/73 - 0s - loss: 0.0306 - val_loss: 0.0345 - 140ms/epoch - 2ms/step\n",
      "Epoch 55/100\n",
      "73/73 - 0s - loss: 0.0306 - val_loss: 0.0343 - 139ms/epoch - 2ms/step\n",
      "Epoch 56/100\n",
      "73/73 - 0s - loss: 0.0306 - val_loss: 0.0343 - 141ms/epoch - 2ms/step\n",
      "Epoch 57/100\n",
      "73/73 - 0s - loss: 0.0305 - val_loss: 0.0356 - 141ms/epoch - 2ms/step\n",
      "Epoch 58/100\n",
      "73/73 - 0s - loss: 0.0303 - val_loss: 0.0354 - 138ms/epoch - 2ms/step\n",
      "Epoch 59/100\n",
      "73/73 - 0s - loss: 0.0301 - val_loss: 0.0336 - 136ms/epoch - 2ms/step\n",
      "Epoch 60/100\n",
      "73/73 - 0s - loss: 0.0302 - val_loss: 0.0357 - 150ms/epoch - 2ms/step\n",
      "Epoch 61/100\n",
      "73/73 - 0s - loss: 0.0300 - val_loss: 0.0350 - 135ms/epoch - 2ms/step\n",
      "Epoch 62/100\n",
      "73/73 - 0s - loss: 0.0298 - val_loss: 0.0343 - 136ms/epoch - 2ms/step\n",
      "Epoch 63/100\n",
      "73/73 - 0s - loss: 0.0300 - val_loss: 0.0359 - 142ms/epoch - 2ms/step\n",
      "Epoch 64/100\n",
      "73/73 - 0s - loss: 0.0298 - val_loss: 0.0339 - 135ms/epoch - 2ms/step\n",
      "Epoch 65/100\n",
      "73/73 - 0s - loss: 0.0300 - val_loss: 0.0354 - 137ms/epoch - 2ms/step\n",
      "Epoch 66/100\n",
      "73/73 - 0s - loss: 0.0296 - val_loss: 0.0344 - 145ms/epoch - 2ms/step\n",
      "Epoch 67/100\n",
      "73/73 - 0s - loss: 0.0296 - val_loss: 0.0350 - 138ms/epoch - 2ms/step\n",
      "Epoch 68/100\n",
      "73/73 - 0s - loss: 0.0295 - val_loss: 0.0338 - 141ms/epoch - 2ms/step\n",
      "Epoch 69/100\n",
      "73/73 - 0s - loss: 0.0295 - val_loss: 0.0354 - 134ms/epoch - 2ms/step\n",
      "Epoch 70/100\n",
      "73/73 - 0s - loss: 0.0295 - val_loss: 0.0357 - 140ms/epoch - 2ms/step\n",
      "Epoch 71/100\n",
      "73/73 - 0s - loss: 0.0293 - val_loss: 0.0354 - 184ms/epoch - 3ms/step\n",
      "Epoch 72/100\n",
      "73/73 - 0s - loss: 0.0293 - val_loss: 0.0351 - 243ms/epoch - 3ms/step\n",
      "Epoch 73/100\n",
      "73/73 - 0s - loss: 0.0294 - val_loss: 0.0349 - 226ms/epoch - 3ms/step\n",
      "Epoch 74/100\n",
      "73/73 - 0s - loss: 0.0293 - val_loss: 0.0355 - 172ms/epoch - 2ms/step\n",
      "Epoch 75/100\n",
      "73/73 - 0s - loss: 0.0292 - val_loss: 0.0354 - 221ms/epoch - 3ms/step\n",
      "Epoch 76/100\n",
      "73/73 - 0s - loss: 0.0291 - val_loss: 0.0353 - 176ms/epoch - 2ms/step\n",
      "Epoch 77/100\n",
      "73/73 - 0s - loss: 0.0291 - val_loss: 0.0354 - 182ms/epoch - 2ms/step\n",
      "Epoch 78/100\n",
      "73/73 - 0s - loss: 0.0290 - val_loss: 0.0354 - 182ms/epoch - 2ms/step\n",
      "Epoch 79/100\n",
      "73/73 - 0s - loss: 0.0291 - val_loss: 0.0355 - 187ms/epoch - 3ms/step\n",
      "Epoch 80/100\n",
      "73/73 - 0s - loss: 0.0290 - val_loss: 0.0353 - 184ms/epoch - 3ms/step\n",
      "Epoch 81/100\n",
      "73/73 - 0s - loss: 0.0291 - val_loss: 0.0355 - 185ms/epoch - 3ms/step\n",
      "Epoch 82/100\n",
      "73/73 - 0s - loss: 0.0289 - val_loss: 0.0360 - 183ms/epoch - 3ms/step\n",
      "Epoch 83/100\n",
      "73/73 - 0s - loss: 0.0289 - val_loss: 0.0359 - 174ms/epoch - 2ms/step\n",
      "Epoch 84/100\n",
      "73/73 - 0s - loss: 0.0288 - val_loss: 0.0355 - 148ms/epoch - 2ms/step\n",
      "Epoch 85/100\n",
      "73/73 - 0s - loss: 0.0289 - val_loss: 0.0363 - 137ms/epoch - 2ms/step\n",
      "Epoch 86/100\n",
      "73/73 - 0s - loss: 0.0288 - val_loss: 0.0355 - 153ms/epoch - 2ms/step\n",
      "Epoch 87/100\n",
      "73/73 - 0s - loss: 0.0288 - val_loss: 0.0353 - 145ms/epoch - 2ms/step\n",
      "Epoch 88/100\n",
      "73/73 - 0s - loss: 0.0287 - val_loss: 0.0353 - 139ms/epoch - 2ms/step\n",
      "Epoch 89/100\n",
      "73/73 - 0s - loss: 0.0286 - val_loss: 0.0355 - 155ms/epoch - 2ms/step\n",
      "Epoch 90/100\n",
      "73/73 - 0s - loss: 0.0285 - val_loss: 0.0357 - 146ms/epoch - 2ms/step\n",
      "Epoch 91/100\n",
      "73/73 - 0s - loss: 0.0285 - val_loss: 0.0353 - 145ms/epoch - 2ms/step\n",
      "Epoch 92/100\n",
      "73/73 - 0s - loss: 0.0286 - val_loss: 0.0355 - 141ms/epoch - 2ms/step\n",
      "Epoch 93/100\n",
      "73/73 - 0s - loss: 0.0285 - val_loss: 0.0355 - 149ms/epoch - 2ms/step\n",
      "Epoch 94/100\n",
      "73/73 - 0s - loss: 0.0287 - val_loss: 0.0344 - 137ms/epoch - 2ms/step\n",
      "Epoch 95/100\n",
      "73/73 - 0s - loss: 0.0286 - val_loss: 0.0353 - 138ms/epoch - 2ms/step\n",
      "Epoch 96/100\n",
      "73/73 - 0s - loss: 0.0284 - val_loss: 0.0346 - 141ms/epoch - 2ms/step\n",
      "Epoch 97/100\n",
      "73/73 - 0s - loss: 0.0285 - val_loss: 0.0351 - 150ms/epoch - 2ms/step\n",
      "Epoch 98/100\n",
      "73/73 - 0s - loss: 0.0284 - val_loss: 0.0349 - 147ms/epoch - 2ms/step\n",
      "Epoch 99/100\n",
      "73/73 - 0s - loss: 0.0283 - val_loss: 0.0352 - 143ms/epoch - 2ms/step\n",
      "Epoch 100/100\n",
      "73/73 - 0s - loss: 0.0284 - val_loss: 0.0349 - 141ms/epoch - 2ms/step\n"
     ]
    }
   ],
   "source": [
    "# Get the shape of one sample in your training data\n",
    "input_shape = (1, X_train.shape[1])\n",
    "lstm_model = create_lstm_model(input_shape)\n",
    "\n",
    "#fit model\n",
    "history = lstm_model.fit(train_X_lstm, y_train, epochs=100, batch_size=30, validation_data = (test_X_lstm, y_test), verbose=2, shuffle=False)\n",
    "\n",
    "\n",
    "\n",
    "# # Get the shape of one sample in your training data\n",
    "# input_shape = (1, train_X.shape[1])\n",
    "# lstm_model = create_lstm_model(input_shape)\n",
    "\n",
    "# #fit model\n",
    "# history = lstm_model.fit(train_X_lstm, train_y, epochs=100, batch_size=30, validation_data = (test_X_lstm, test_y), verbose=2, shuffle=False)\n"
   ]
  },
  {
   "cell_type": "code",
   "execution_count": null,
   "id": "4ccd4d1a",
   "metadata": {
    "colab": {
     "base_uri": "https://localhost:8080/",
     "height": 465
    },
    "id": "4ccd4d1a",
    "outputId": "91f49b18-51f6-4ab3-b5cb-3c6ea60db986"
   },
   "outputs": [
    {
     "data": {
      "text/plain": [
       "[<matplotlib.lines.Line2D at 0x79176d689ff0>]"
      ]
     },
     "execution_count": 122,
     "metadata": {},
     "output_type": "execute_result"
    },
    {
     "data": {
      "image/png": "[encoded data removed]",
      "text/plain": [
       "<Figure size 640x480 with 1 Axes>"
      ]
     },
     "metadata": {},
     "output_type": "display_data"
    }
   ],
   "source": [
    "plt.plot(history.history['loss'], label='train')\n",
    "plt.plot(history.history['val_loss'], label='test')"
   ]
  },
  {
   "cell_type": "markdown",
   "id": "872cd6ae",
   "metadata": {
    "id": "872cd6ae"
   },
   "source": [
    "#### Model Evaluation"
   ]
  },
  {
   "cell_type": "code",
   "execution_count": null,
   "id": "9e5ca53e",
   "metadata": {
    "colab": {
     "base_uri": "https://localhost:8080/"
    },
    "id": "9e5ca53e",
    "outputId": "3c37a090-5d8b-43ff-d2de-30e3150c7320"
   },
   "outputs": [
    {
     "name": "stdout",
     "output_type": "stream",
     "text": [
      "14/14 [==============================] - 0s 1ms/step\n",
      "The MSE is 0.0021821358241140842\n"
     ]
    }
   ],
   "source": [
    "\n",
    "from sklearn.metrics import r2_score\n",
    "yhat = lstm_model.predict(test_X_lstm)\n",
    "test_X_lstm = test_X_lstm.reshape(test_X_lstm.shape[0], test_X_lstm.shape[2])\n",
    "\n",
    "mse_lstm = mean_squared_error(y_test, yhat)\n",
    "\n",
    "print(f\"The MSE is {mse_lstm}\")"
   ]
  },
  {
   "cell_type": "code",
   "execution_count": null,
   "id": "83820480",
   "metadata": {
    "colab": {
     "base_uri": "https://localhost:8080/",
     "height": 461
    },
    "id": "83820480",
    "outputId": "8bb9f853-e308-4151-8ee2-430d9b82e859"
   },
   "outputs": [
    {
     "data": {
      "text/plain": [
       "<matplotlib.legend.Legend at 0x79176f945570>"
      ]
     },
     "execution_count": 125,
     "metadata": {},
     "output_type": "execute_result"
    },
    {
     "data": {
      "image/png": "[encoded data removed]",
      "text/plain": [
       "<Figure size 640x480 with 1 Axes>"
      ]
     },
     "metadata": {},
     "output_type": "display_data"
    }
   ],
   "source": [
    "plt.plot(range(len(y_test)), yhat, label='Predicted')\n",
    "plt.plot(range(len(y_test)), y_test, label='True')\n",
    "plt.legend()"
   ]
  },
  {
   "cell_type": "markdown",
   "id": "cd9e265e",
   "metadata": {
    "id": "cd9e265e"
   },
   "source": [
    "## Defining Random Forest Model"
   ]
  },
  {
   "cell_type": "code",
   "execution_count": null,
   "id": "6508cd5d",
   "metadata": {
    "id": "6508cd5d"
   },
   "outputs": [],
   "source": [
    "# Create a Random Forest regressor with 100 trees\n",
    "rf_regressor = RandomForestRegressor(n_estimators=100, random_state=42)\n",
    "\n",
    "# Fit the regressor to the training data\n",
    "rf_regressor.fit(train_X, train_y)\n",
    "\n",
    "# Predict the yield values for the test data\n",
    "predicted_y = rf_regressor.predict(test_X)"
   ]
  },
  {
   "cell_type": "code",
   "execution_count": null,
   "id": "0147fa59",
   "metadata": {
    "colab": {
     "base_uri": "https://localhost:8080/",
     "height": 464
    },
    "id": "0147fa59",
    "outputId": "3beef2d1-4412-4ce6-a14a-9c0dd429b6f6"
   },
   "outputs": [
    {
     "data": {
      "text/plain": [
       "<matplotlib.legend.Legend at 0x7917703899c0>"
      ]
     },
     "execution_count": 127,
     "metadata": {},
     "output_type": "execute_result"
    },
    {
     "data": {
      "image/png": "[encoded data removed]",
      "text/plain": [
       "<Figure size 640x480 with 1 Axes>"
      ]
     },
     "metadata": {},
     "output_type": "display_data"
    }
   ],
   "source": [
    "plt.plot(range(len(test_y)), predicted_y, label='Predicted')\n",
    "plt.plot(range(len(test_y)), test_y, label='True')\n",
    "plt.legend()"
   ]
  },
  {
   "cell_type": "markdown",
   "id": "05754a80",
   "metadata": {
    "id": "05754a80"
   },
   "source": [
    "#### Model Evaluation"
   ]
  },
  {
   "cell_type": "code",
   "execution_count": null,
   "id": "b9c67948",
   "metadata": {
    "colab": {
     "base_uri": "https://localhost:8080/"
    },
    "id": "b9c67948",
    "outputId": "8c888c57-969c-4b4a-c64f-917aa540622a"
   },
   "outputs": [
    {
     "name": "stdout",
     "output_type": "stream",
     "text": [
      "The MSE is 0.0012509493854139181\n"
     ]
    }
   ],
   "source": [
    "mse_rf = mean_squared_error(predicted_y, test_y)\n",
    "\n",
    "print(f\"The MSE is {mse_rf}\")"
   ]
  },
  {
   "cell_type": "markdown",
   "id": "cedf8141",
   "metadata": {
    "id": "cedf8141"
   },
   "source": [
    "## Comparing Performance of the tested models"
   ]
  },
  {
   "cell_type": "code",
   "execution_count": null,
   "id": "de0ca5a9",
   "metadata": {
    "colab": {
     "base_uri": "https://localhost:8080/",
     "height": 461
    },
    "id": "de0ca5a9",
    "outputId": "57e2891e-a85b-40d6-9225-635fa70845be"
   },
   "outputs": [
    {
     "data": {
      "text/plain": [
       "<matplotlib.legend.Legend at 0x79176cf78b20>"
      ]
     },
     "execution_count": 130,
     "metadata": {},
     "output_type": "execute_result"
    },
    {
     "data": {
      "image/png": "[encoded data removed]",
      "text/plain": [
       "<Figure size 640x480 with 1 Axes>"
      ]
     },
     "metadata": {},
     "output_type": "display_data"
    }
   ],
   "source": [
    "plt.plot(range(len(test_y)), predicted_y, label='RF')\n",
    "plt.plot(range(len(y_test)), yhat, label='LSTM')\n",
    "plt.plot(range(len(test_y)), y_prediction, label='MLR')\n",
    "\n",
    "plt.plot(range(len(test_y)), test_y, label='True')\n",
    "plt.legend()"
   ]
  },
  {
   "cell_type": "code",
   "execution_count": null,
   "id": "eb095622",
   "metadata": {
    "colab": {
     "base_uri": "https://localhost:8080/"
    },
    "id": "eb095622",
    "outputId": "73c21fe8-483e-4a51-dd6f-6e005d4a4998"
   },
   "outputs": [
    {
     "name": "stdout",
     "output_type": "stream",
     "text": [
      "           model       MSE\n",
      "0           LSTM  0.002182\n",
      "1  Random Forest  0.001251\n",
      "2            MLR  0.000694\n"
     ]
    }
   ],
   "source": [
    "data = {'model': ['LSTM', 'Random Forest', 'MLR'],\n",
    "        'MSE': [mse_lstm, mse_rf, mse]}\n",
    "\n",
    "df = pd.DataFrame(data)\n",
    "\n",
    "print(df)"
   ]
  },
  {
   "cell_type": "markdown",
   "id": "5b17eb8d",
   "metadata": {
    "id": "5b17eb8d"
   },
   "source": [
    "### Indicating that Multiple Linear Regression(MLR) model is the best performer as it shows least error(MSE)\n",
    "\n",
    "\n"
   ]
  },
  {
   "cell_type": "markdown",
   "id": "f6332880",
   "metadata": {
    "id": "f6332880"
   },
   "source": [
    "## Estimating crop yield from the predicted NDVI values"
   ]
  },
  {
   "cell_type": "markdown",
   "id": "01cc701f",
   "metadata": {
    "id": "01cc701f"
   },
   "source": [
    "### Calculating the area of the Sugarcane Belt Polygon"
   ]
  },
  {
   "cell_type": "code",
   "execution_count": null,
   "id": "2INmPwbFNTKY",
   "metadata": {
    "colab": {
     "base_uri": "https://localhost:8080/"
    },
    "id": "2INmPwbFNTKY",
    "outputId": "56807435-bb28-40b9-d873-9f1be6b100ee"
   },
   "outputs": [
    {
     "name": "stdout",
     "output_type": "stream",
     "text": [
      "Area within the specified polygon:  206066.10 hectares.\n"
     ]
    }
   ],
   "source": [
    "import ee\n",
    "\n",
    "# Initialize the Earth Engine API\n",
    "ee.Initialize()\n",
    "\n",
    "# Coordinates of the polygon\n",
    "polygon_coords = [\n",
    "    [80.1728, 28.1124],\n",
    "    [80.3233, 28.0459],\n",
    "    [80.3648, 27.9413],\n",
    "    [80.3476, 27.8406],\n",
    "    [80.1756, 27.8007],\n",
    "    [80.0897, 27.8132],\n",
    "    [80.0149, 27.8557],\n",
    "    [79.9669, 27.8978],\n",
    "    [79.9190, 27.9468],\n",
    "    [79.8889, 27.9993],\n",
    "    [79.8704, 28.0641],\n",
    "    [79.8015, 28.1435],\n",
    "    [79.7522, 28.2381],\n",
    "    [79.7847, 28.2827],\n",
    "    [79.7744, 28.3554],\n",
    "    [79.8495, 28.3964],\n",
    "    [79.8778, 28.4119],\n",
    "    [80.1728, 28.1124]  # Closing the polygon\n",
    "]\n",
    "\n",
    "# Create an Earth Engine Geometry object\n",
    "polygon_ee = ee.Geometry.Polygon(polygon_coords)\n",
    "\n",
    "# Calculate the area in square kilometers\n",
    "area_square_kilometers_ee = polygon_ee.area().divide(1e6).getInfo()\n",
    "\n",
    "# print(f\"Area within the specified polygon: {area_square_kilometers_ee:.2f} square kilometers\")\n",
    "conversion_factor = 100\n",
    "\n",
    "area_hectares = area_square_kilometers_ee* conversion_factor\n",
    "\n",
    "print(f\"Area within the specified polygon: {area_hectares: .2f} hectares.\")"
   ]
  },
  {
   "cell_type": "markdown",
   "id": "117c9220",
   "metadata": {
    "id": "117c9220"
   },
   "source": [
    "### Calculating the yield from the NDVI values"
   ]
  },
  {
   "cell_type": "markdown",
   "id": "60d1b7f4",
   "metadata": {
    "id": "60d1b7f4"
   },
   "source": [
    "#### We use the predictions from Random Forrest Model as they have the least MSE"
   ]
  },
  {
   "cell_type": "code",
   "execution_count": null,
   "id": "41791d98",
   "metadata": {
    "colab": {
     "base_uri": "https://localhost:8080/"
    },
    "id": "41791d98",
    "outputId": "c13d39d6-2730-45a0-80ec-4304ee07a1b0"
   },
   "outputs": [
    {
     "name": "stdout",
     "output_type": "stream",
     "text": [
      "Predicted average yearly crop yield: 74.054 kg-hectares\n",
      "Actual average yearly crop yield: 73.376 kg-hectares\n"
     ]
    }
   ],
   "source": [
    "# convert ndvi to yield using a linear regression model\n",
    "m = 5\n",
    "c = 5.0\n",
    "\n",
    "yield_pred = m * y_prediction + c\n",
    "yield_act = m * test_y + c\n",
    "\n",
    "# calculate total predicted crop yield in tonnes\n",
    "crop_yield = np.sum(yield_pred) * area_hectares\n",
    "\n",
    "# calculate total actual crop yield in tonnes\n",
    "crop_yield_act = np.sum(yield_act) * area_hectares\n",
    "\n",
    "# predicted average yearly crop yield in million tonnes\n",
    "crop_yield = (crop_yield/8)/1000000\n",
    "\n",
    "# Actual average yearly crop yield in million tonnes\n",
    "crop_yield_act = (crop_yield_act/8)/1000000\n",
    "\n",
    "print(\"Predicted average yearly crop yield: {:.3f} kg-hectares\".format(crop_yield))\n",
    "print(\"Actual average yearly crop yield: {:.3f} kg-hectares\".format(crop_yield_act))"
   ]
  },
  {
   "cell_type": "code",
   "execution_count": null,
   "id": "yroq1Q2MNVwx",
   "metadata": {
    "id": "yroq1Q2MNVwx"
   },
   "outputs": [],
   "source": []
  }
 ],
 "metadata": {
  "colab": {
   "provenance": []
  },
  "kernelspec": {
   "display_name": "Python 3 (ipykernel)",
   "language": "python",
   "name": "python3"
  },
  "language_info": {
   "codemirror_mode": {
    "name": "ipython",
    "version": 3
   },
   "file_extension": ".py",
   "mimetype": "text/x-python",
   "name": "python",
   "nbconvert_exporter": "python",
   "pygments_lexer": "ipython3",
   "version": "3.10.9"
  }
 },
 "nbformat": 4,
 "nbformat_minor": 5
}
